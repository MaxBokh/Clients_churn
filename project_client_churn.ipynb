{
 "cells": [
  {
   "cell_type": "markdown",
   "metadata": {
    "toc": true
   },
   "source": [
    "<h1>Содержание<span class=\"tocSkip\"></span></h1>\n",
    "<div class=\"toc\"><ul class=\"toc-item\"><li><span><a href=\"#Подготовка-данных\" data-toc-modified-id=\"Подготовка-данных-1\"><span class=\"toc-item-num\">1&nbsp;&nbsp;</span>Подготовка данных</a></span></li><li><span><a href=\"#Исследование-задачи\" data-toc-modified-id=\"Исследование-задачи-2\"><span class=\"toc-item-num\">2&nbsp;&nbsp;</span>Исследование задачи</a></span></li><li><span><a href=\"#Борьба-с-дисбалансом\" data-toc-modified-id=\"Борьба-с-дисбалансом-3\"><span class=\"toc-item-num\">3&nbsp;&nbsp;</span>Борьба с дисбалансом</a></span></li><li><span><a href=\"#Тестирование-модели\" data-toc-modified-id=\"Тестирование-модели-4\"><span class=\"toc-item-num\">4&nbsp;&nbsp;</span>Тестирование модели</a></span></li><li><span><a href=\"#Чек-лист-готовности-проекта\" data-toc-modified-id=\"Чек-лист-готовности-проекта-5\"><span class=\"toc-item-num\">5&nbsp;&nbsp;</span>Чек-лист готовности проекта</a></span></li></ul></div>"
   ]
  },
  {
   "cell_type": "markdown",
   "metadata": {},
   "source": [
    "# Отток клиентов"
   ]
  },
  {
   "cell_type": "markdown",
   "metadata": {},
   "source": [
    "Из «Бета-Банка» стали уходить клиенты. Каждый месяц. Немного, но заметно. Банковские маркетологи посчитали: сохранять текущих клиентов дешевле, чем привлекать новых.\n",
    "\n",
    "Нужно спрогнозировать, уйдёт клиент из банка в ближайшее время или нет. Вам предоставлены исторические данные о поведении клиентов и расторжении договоров с банком. \n",
    "\n",
    "Постройте модель с предельно большим значением *F1*-меры. Чтобы сдать проект успешно, нужно довести метрику до 0.59. Проверьте *F1*-меру на тестовой выборке самостоятельно.\n",
    "\n",
    "Дополнительно измеряйте *AUC-ROC*, сравнивайте её значение с *F1*-мерой.\n",
    "\n",
    "Источник данных: [https://www.kaggle.com/barelydedicated/bank-customer-churn-modeling](https://www.kaggle.com/barelydedicated/bank-customer-churn-modeling)"
   ]
  },
  {
   "cell_type": "markdown",
   "metadata": {},
   "source": [
    "## Подготовка данных"
   ]
  },
  {
   "cell_type": "markdown",
   "metadata": {},
   "source": [
    "Импортируем все нужные библиотеки и ознакомимся с датасетом"
   ]
  },
  {
   "cell_type": "code",
   "execution_count": 1,
   "metadata": {},
   "outputs": [],
   "source": [
    "import pandas as pd\n",
    "import numpy as np\n",
    "import seaborn as sns\n",
    "import matplotlib.pyplot as plt\n",
    "from sklearn.model_selection import train_test_split\n",
    "from sklearn.tree import DecisionTreeClassifier\n",
    "from sklearn.ensemble import RandomForestClassifier\n",
    "from sklearn.linear_model import LogisticRegression\n",
    "from sklearn.preprocessing import StandardScaler\n",
    "from sklearn.metrics import f1_score, precision_score, recall_score, precision_recall_curve, roc_auc_score\n",
    "from sklearn.utils import shuffle"
   ]
  },
  {
   "cell_type": "code",
   "execution_count": 2,
   "metadata": {},
   "outputs": [
    {
     "data": {
      "text/html": [
       "<div>\n",
       "<style scoped>\n",
       "    .dataframe tbody tr th:only-of-type {\n",
       "        vertical-align: middle;\n",
       "    }\n",
       "\n",
       "    .dataframe tbody tr th {\n",
       "        vertical-align: top;\n",
       "    }\n",
       "\n",
       "    .dataframe thead th {\n",
       "        text-align: right;\n",
       "    }\n",
       "</style>\n",
       "<table border=\"1\" class=\"dataframe\">\n",
       "  <thead>\n",
       "    <tr style=\"text-align: right;\">\n",
       "      <th></th>\n",
       "      <th>RowNumber</th>\n",
       "      <th>CustomerId</th>\n",
       "      <th>Surname</th>\n",
       "      <th>CreditScore</th>\n",
       "      <th>Geography</th>\n",
       "      <th>Gender</th>\n",
       "      <th>Age</th>\n",
       "      <th>Tenure</th>\n",
       "      <th>Balance</th>\n",
       "      <th>NumOfProducts</th>\n",
       "      <th>HasCrCard</th>\n",
       "      <th>IsActiveMember</th>\n",
       "      <th>EstimatedSalary</th>\n",
       "      <th>Exited</th>\n",
       "    </tr>\n",
       "  </thead>\n",
       "  <tbody>\n",
       "    <tr>\n",
       "      <th>0</th>\n",
       "      <td>1</td>\n",
       "      <td>15634602</td>\n",
       "      <td>Hargrave</td>\n",
       "      <td>619</td>\n",
       "      <td>France</td>\n",
       "      <td>Female</td>\n",
       "      <td>42</td>\n",
       "      <td>2.0</td>\n",
       "      <td>0.00</td>\n",
       "      <td>1</td>\n",
       "      <td>1</td>\n",
       "      <td>1</td>\n",
       "      <td>101348.88</td>\n",
       "      <td>1</td>\n",
       "    </tr>\n",
       "    <tr>\n",
       "      <th>1</th>\n",
       "      <td>2</td>\n",
       "      <td>15647311</td>\n",
       "      <td>Hill</td>\n",
       "      <td>608</td>\n",
       "      <td>Spain</td>\n",
       "      <td>Female</td>\n",
       "      <td>41</td>\n",
       "      <td>1.0</td>\n",
       "      <td>83807.86</td>\n",
       "      <td>1</td>\n",
       "      <td>0</td>\n",
       "      <td>1</td>\n",
       "      <td>112542.58</td>\n",
       "      <td>0</td>\n",
       "    </tr>\n",
       "    <tr>\n",
       "      <th>2</th>\n",
       "      <td>3</td>\n",
       "      <td>15619304</td>\n",
       "      <td>Onio</td>\n",
       "      <td>502</td>\n",
       "      <td>France</td>\n",
       "      <td>Female</td>\n",
       "      <td>42</td>\n",
       "      <td>8.0</td>\n",
       "      <td>159660.80</td>\n",
       "      <td>3</td>\n",
       "      <td>1</td>\n",
       "      <td>0</td>\n",
       "      <td>113931.57</td>\n",
       "      <td>1</td>\n",
       "    </tr>\n",
       "    <tr>\n",
       "      <th>3</th>\n",
       "      <td>4</td>\n",
       "      <td>15701354</td>\n",
       "      <td>Boni</td>\n",
       "      <td>699</td>\n",
       "      <td>France</td>\n",
       "      <td>Female</td>\n",
       "      <td>39</td>\n",
       "      <td>1.0</td>\n",
       "      <td>0.00</td>\n",
       "      <td>2</td>\n",
       "      <td>0</td>\n",
       "      <td>0</td>\n",
       "      <td>93826.63</td>\n",
       "      <td>0</td>\n",
       "    </tr>\n",
       "    <tr>\n",
       "      <th>4</th>\n",
       "      <td>5</td>\n",
       "      <td>15737888</td>\n",
       "      <td>Mitchell</td>\n",
       "      <td>850</td>\n",
       "      <td>Spain</td>\n",
       "      <td>Female</td>\n",
       "      <td>43</td>\n",
       "      <td>2.0</td>\n",
       "      <td>125510.82</td>\n",
       "      <td>1</td>\n",
       "      <td>1</td>\n",
       "      <td>1</td>\n",
       "      <td>79084.10</td>\n",
       "      <td>0</td>\n",
       "    </tr>\n",
       "  </tbody>\n",
       "</table>\n",
       "</div>"
      ],
      "text/plain": [
       "   RowNumber  CustomerId   Surname  CreditScore Geography  Gender  Age  \\\n",
       "0          1    15634602  Hargrave          619    France  Female   42   \n",
       "1          2    15647311      Hill          608     Spain  Female   41   \n",
       "2          3    15619304      Onio          502    France  Female   42   \n",
       "3          4    15701354      Boni          699    France  Female   39   \n",
       "4          5    15737888  Mitchell          850     Spain  Female   43   \n",
       "\n",
       "   Tenure    Balance  NumOfProducts  HasCrCard  IsActiveMember  \\\n",
       "0     2.0       0.00              1          1               1   \n",
       "1     1.0   83807.86              1          0               1   \n",
       "2     8.0  159660.80              3          1               0   \n",
       "3     1.0       0.00              2          0               0   \n",
       "4     2.0  125510.82              1          1               1   \n",
       "\n",
       "   EstimatedSalary  Exited  \n",
       "0        101348.88       1  \n",
       "1        112542.58       0  \n",
       "2        113931.57       1  \n",
       "3         93826.63       0  \n",
       "4         79084.10       0  "
      ]
     },
     "execution_count": 2,
     "metadata": {},
     "output_type": "execute_result"
    }
   ],
   "source": [
    "data = pd.read_csv('C:/Users/79276/Downloads/Churn.csv')\n",
    "data.head()"
   ]
  },
  {
   "cell_type": "code",
   "execution_count": 3,
   "metadata": {},
   "outputs": [
    {
     "name": "stdout",
     "output_type": "stream",
     "text": [
      "<class 'pandas.core.frame.DataFrame'>\n",
      "RangeIndex: 10000 entries, 0 to 9999\n",
      "Data columns (total 14 columns):\n",
      " #   Column           Non-Null Count  Dtype  \n",
      "---  ------           --------------  -----  \n",
      " 0   RowNumber        10000 non-null  int64  \n",
      " 1   CustomerId       10000 non-null  int64  \n",
      " 2   Surname          10000 non-null  object \n",
      " 3   CreditScore      10000 non-null  int64  \n",
      " 4   Geography        10000 non-null  object \n",
      " 5   Gender           10000 non-null  object \n",
      " 6   Age              10000 non-null  int64  \n",
      " 7   Tenure           9091 non-null   float64\n",
      " 8   Balance          10000 non-null  float64\n",
      " 9   NumOfProducts    10000 non-null  int64  \n",
      " 10  HasCrCard        10000 non-null  int64  \n",
      " 11  IsActiveMember   10000 non-null  int64  \n",
      " 12  EstimatedSalary  10000 non-null  float64\n",
      " 13  Exited           10000 non-null  int64  \n",
      "dtypes: float64(3), int64(8), object(3)\n",
      "memory usage: 1.1+ MB\n"
     ]
    }
   ],
   "source": [
    "data.info()"
   ]
  },
  {
   "cell_type": "markdown",
   "metadata": {},
   "source": [
    "Итак, в датасете 10 тысяч строк, в том числе 909 пропусов в столбце, отражающим продолжительно \"жизни\" клиента. Так же в датасете присутствуют столбцы, отражающие номер строки, id клиента и его фамилию. Совершенно очевидно, что эта информация не оказывает влияния на \"отвал\" клиента, поэтому от этих столбцов мы избавимся. Так же, проведем заполнение пропусков для правильной работы алгоритмов ML. Заодно, на всякий случай, проверим дубликаты."
   ]
  },
  {
   "cell_type": "code",
   "execution_count": 4,
   "metadata": {},
   "outputs": [
    {
     "data": {
      "text/plain": [
       "0"
      ]
     },
     "execution_count": 4,
     "metadata": {},
     "output_type": "execute_result"
    }
   ],
   "source": [
    "data.duplicated().sum()"
   ]
  },
  {
   "cell_type": "code",
   "execution_count": 5,
   "metadata": {},
   "outputs": [
    {
     "data": {
      "text/html": [
       "<div>\n",
       "<style scoped>\n",
       "    .dataframe tbody tr th:only-of-type {\n",
       "        vertical-align: middle;\n",
       "    }\n",
       "\n",
       "    .dataframe tbody tr th {\n",
       "        vertical-align: top;\n",
       "    }\n",
       "\n",
       "    .dataframe thead th {\n",
       "        text-align: right;\n",
       "    }\n",
       "</style>\n",
       "<table border=\"1\" class=\"dataframe\">\n",
       "  <thead>\n",
       "    <tr style=\"text-align: right;\">\n",
       "      <th></th>\n",
       "      <th>CreditScore</th>\n",
       "      <th>Geography</th>\n",
       "      <th>Gender</th>\n",
       "      <th>Age</th>\n",
       "      <th>Tenure</th>\n",
       "      <th>Balance</th>\n",
       "      <th>NumOfProducts</th>\n",
       "      <th>HasCrCard</th>\n",
       "      <th>IsActiveMember</th>\n",
       "      <th>EstimatedSalary</th>\n",
       "      <th>Exited</th>\n",
       "    </tr>\n",
       "  </thead>\n",
       "  <tbody>\n",
       "    <tr>\n",
       "      <th>0</th>\n",
       "      <td>619</td>\n",
       "      <td>France</td>\n",
       "      <td>Female</td>\n",
       "      <td>42</td>\n",
       "      <td>2.0</td>\n",
       "      <td>0.00</td>\n",
       "      <td>1</td>\n",
       "      <td>1</td>\n",
       "      <td>1</td>\n",
       "      <td>101348.88</td>\n",
       "      <td>1</td>\n",
       "    </tr>\n",
       "    <tr>\n",
       "      <th>1</th>\n",
       "      <td>608</td>\n",
       "      <td>Spain</td>\n",
       "      <td>Female</td>\n",
       "      <td>41</td>\n",
       "      <td>1.0</td>\n",
       "      <td>83807.86</td>\n",
       "      <td>1</td>\n",
       "      <td>0</td>\n",
       "      <td>1</td>\n",
       "      <td>112542.58</td>\n",
       "      <td>0</td>\n",
       "    </tr>\n",
       "    <tr>\n",
       "      <th>2</th>\n",
       "      <td>502</td>\n",
       "      <td>France</td>\n",
       "      <td>Female</td>\n",
       "      <td>42</td>\n",
       "      <td>8.0</td>\n",
       "      <td>159660.80</td>\n",
       "      <td>3</td>\n",
       "      <td>1</td>\n",
       "      <td>0</td>\n",
       "      <td>113931.57</td>\n",
       "      <td>1</td>\n",
       "    </tr>\n",
       "    <tr>\n",
       "      <th>3</th>\n",
       "      <td>699</td>\n",
       "      <td>France</td>\n",
       "      <td>Female</td>\n",
       "      <td>39</td>\n",
       "      <td>1.0</td>\n",
       "      <td>0.00</td>\n",
       "      <td>2</td>\n",
       "      <td>0</td>\n",
       "      <td>0</td>\n",
       "      <td>93826.63</td>\n",
       "      <td>0</td>\n",
       "    </tr>\n",
       "    <tr>\n",
       "      <th>4</th>\n",
       "      <td>850</td>\n",
       "      <td>Spain</td>\n",
       "      <td>Female</td>\n",
       "      <td>43</td>\n",
       "      <td>2.0</td>\n",
       "      <td>125510.82</td>\n",
       "      <td>1</td>\n",
       "      <td>1</td>\n",
       "      <td>1</td>\n",
       "      <td>79084.10</td>\n",
       "      <td>0</td>\n",
       "    </tr>\n",
       "  </tbody>\n",
       "</table>\n",
       "</div>"
      ],
      "text/plain": [
       "   CreditScore Geography  Gender  Age  Tenure    Balance  NumOfProducts  \\\n",
       "0          619    France  Female   42     2.0       0.00              1   \n",
       "1          608     Spain  Female   41     1.0   83807.86              1   \n",
       "2          502    France  Female   42     8.0  159660.80              3   \n",
       "3          699    France  Female   39     1.0       0.00              2   \n",
       "4          850     Spain  Female   43     2.0  125510.82              1   \n",
       "\n",
       "   HasCrCard  IsActiveMember  EstimatedSalary  Exited  \n",
       "0          1               1        101348.88       1  \n",
       "1          0               1        112542.58       0  \n",
       "2          1               0        113931.57       1  \n",
       "3          0               0         93826.63       0  \n",
       "4          1               1         79084.10       0  "
      ]
     },
     "execution_count": 5,
     "metadata": {},
     "output_type": "execute_result"
    }
   ],
   "source": [
    "data.drop(['RowNumber', 'CustomerId', 'Surname'], axis=1, inplace=True)\n",
    "data.head()"
   ]
  },
  {
   "cell_type": "code",
   "execution_count": 6,
   "metadata": {},
   "outputs": [
    {
     "data": {
      "text/plain": [
       "[0.0, 1.0, 2.0, 3.0, 4.0, 5.0, 6.0, 7.0, 8.0, 9.0, 10.0, nan]"
      ]
     },
     "execution_count": 6,
     "metadata": {},
     "output_type": "execute_result"
    }
   ],
   "source": [
    "sorted(data['Tenure'].unique())"
   ]
  },
  {
   "cell_type": "code",
   "execution_count": 7,
   "metadata": {},
   "outputs": [
    {
     "data": {
      "text/plain": [
       "1.0     952\n",
       "2.0     950\n",
       "8.0     933\n",
       "3.0     928\n",
       "5.0     927\n",
       "7.0     925\n",
       "4.0     885\n",
       "9.0     882\n",
       "6.0     881\n",
       "10.0    446\n",
       "0.0     382\n",
       "Name: Tenure, dtype: int64"
      ]
     },
     "execution_count": 7,
     "metadata": {},
     "output_type": "execute_result"
    }
   ],
   "source": [
    "data['Tenure'].value_counts()"
   ]
  },
  {
   "cell_type": "code",
   "execution_count": 8,
   "metadata": {},
   "outputs": [],
   "source": [
    "data['Tenure'] = data['Tenure'].fillna(data['Tenure'].median())"
   ]
  },
  {
   "cell_type": "code",
   "execution_count": 9,
   "metadata": {},
   "outputs": [
    {
     "name": "stdout",
     "output_type": "stream",
     "text": [
      "<class 'pandas.core.frame.DataFrame'>\n",
      "RangeIndex: 10000 entries, 0 to 9999\n",
      "Data columns (total 11 columns):\n",
      " #   Column           Non-Null Count  Dtype  \n",
      "---  ------           --------------  -----  \n",
      " 0   CreditScore      10000 non-null  int64  \n",
      " 1   Geography        10000 non-null  object \n",
      " 2   Gender           10000 non-null  object \n",
      " 3   Age              10000 non-null  int64  \n",
      " 4   Tenure           10000 non-null  float64\n",
      " 5   Balance          10000 non-null  float64\n",
      " 6   NumOfProducts    10000 non-null  int64  \n",
      " 7   HasCrCard        10000 non-null  int64  \n",
      " 8   IsActiveMember   10000 non-null  int64  \n",
      " 9   EstimatedSalary  10000 non-null  float64\n",
      " 10  Exited           10000 non-null  int64  \n",
      "dtypes: float64(3), int64(6), object(2)\n",
      "memory usage: 859.5+ KB\n"
     ]
    }
   ],
   "source": [
    "data.info()"
   ]
  },
  {
   "cell_type": "markdown",
   "metadata": {},
   "source": [
    "Пропуски заполнены, лишние столбцы для обучения модели удалены. В нашем датасете присутствуют два столбца типа object, которые нам предстоит преобразовать в числовые методом прямого кодирования, это столбцы Geography и Gender. Для начала посмотрим, сколько в них уникальных значений, чтобы представлять размеры нового датасета."
   ]
  },
  {
   "cell_type": "code",
   "execution_count": 10,
   "metadata": {},
   "outputs": [
    {
     "data": {
      "text/plain": [
       "array(['France', 'Spain', 'Germany'], dtype=object)"
      ]
     },
     "execution_count": 10,
     "metadata": {},
     "output_type": "execute_result"
    }
   ],
   "source": [
    "data['Geography'].unique()"
   ]
  },
  {
   "cell_type": "code",
   "execution_count": 11,
   "metadata": {},
   "outputs": [
    {
     "data": {
      "text/plain": [
       "array(['Female', 'Male'], dtype=object)"
      ]
     },
     "execution_count": 11,
     "metadata": {},
     "output_type": "execute_result"
    }
   ],
   "source": [
    "data['Gender'].unique()"
   ]
  },
  {
   "cell_type": "markdown",
   "metadata": {},
   "source": [
    "В сумме всего 5 уникальных значений, что говорит нам о том, что датасет увеличится всего лишь на одну колонку, ведь из 5 новых столбцов придется удалить по одному для каждого признака, чтоби избежать дамми-ловушки, а значит, что текущие 2 качественых столбца превратятся в 3 количественных."
   ]
  },
  {
   "cell_type": "code",
   "execution_count": 12,
   "metadata": {
    "scrolled": false
   },
   "outputs": [
    {
     "data": {
      "text/html": [
       "<div>\n",
       "<style scoped>\n",
       "    .dataframe tbody tr th:only-of-type {\n",
       "        vertical-align: middle;\n",
       "    }\n",
       "\n",
       "    .dataframe tbody tr th {\n",
       "        vertical-align: top;\n",
       "    }\n",
       "\n",
       "    .dataframe thead th {\n",
       "        text-align: right;\n",
       "    }\n",
       "</style>\n",
       "<table border=\"1\" class=\"dataframe\">\n",
       "  <thead>\n",
       "    <tr style=\"text-align: right;\">\n",
       "      <th></th>\n",
       "      <th>CreditScore</th>\n",
       "      <th>Age</th>\n",
       "      <th>Tenure</th>\n",
       "      <th>Balance</th>\n",
       "      <th>NumOfProducts</th>\n",
       "      <th>HasCrCard</th>\n",
       "      <th>IsActiveMember</th>\n",
       "      <th>EstimatedSalary</th>\n",
       "      <th>Exited</th>\n",
       "      <th>Geography_Germany</th>\n",
       "      <th>Geography_Spain</th>\n",
       "      <th>Gender_Male</th>\n",
       "    </tr>\n",
       "  </thead>\n",
       "  <tbody>\n",
       "    <tr>\n",
       "      <th>0</th>\n",
       "      <td>619</td>\n",
       "      <td>42</td>\n",
       "      <td>2.0</td>\n",
       "      <td>0.00</td>\n",
       "      <td>1</td>\n",
       "      <td>1</td>\n",
       "      <td>1</td>\n",
       "      <td>101348.88</td>\n",
       "      <td>1</td>\n",
       "      <td>0</td>\n",
       "      <td>0</td>\n",
       "      <td>0</td>\n",
       "    </tr>\n",
       "    <tr>\n",
       "      <th>1</th>\n",
       "      <td>608</td>\n",
       "      <td>41</td>\n",
       "      <td>1.0</td>\n",
       "      <td>83807.86</td>\n",
       "      <td>1</td>\n",
       "      <td>0</td>\n",
       "      <td>1</td>\n",
       "      <td>112542.58</td>\n",
       "      <td>0</td>\n",
       "      <td>0</td>\n",
       "      <td>1</td>\n",
       "      <td>0</td>\n",
       "    </tr>\n",
       "    <tr>\n",
       "      <th>2</th>\n",
       "      <td>502</td>\n",
       "      <td>42</td>\n",
       "      <td>8.0</td>\n",
       "      <td>159660.80</td>\n",
       "      <td>3</td>\n",
       "      <td>1</td>\n",
       "      <td>0</td>\n",
       "      <td>113931.57</td>\n",
       "      <td>1</td>\n",
       "      <td>0</td>\n",
       "      <td>0</td>\n",
       "      <td>0</td>\n",
       "    </tr>\n",
       "    <tr>\n",
       "      <th>3</th>\n",
       "      <td>699</td>\n",
       "      <td>39</td>\n",
       "      <td>1.0</td>\n",
       "      <td>0.00</td>\n",
       "      <td>2</td>\n",
       "      <td>0</td>\n",
       "      <td>0</td>\n",
       "      <td>93826.63</td>\n",
       "      <td>0</td>\n",
       "      <td>0</td>\n",
       "      <td>0</td>\n",
       "      <td>0</td>\n",
       "    </tr>\n",
       "    <tr>\n",
       "      <th>4</th>\n",
       "      <td>850</td>\n",
       "      <td>43</td>\n",
       "      <td>2.0</td>\n",
       "      <td>125510.82</td>\n",
       "      <td>1</td>\n",
       "      <td>1</td>\n",
       "      <td>1</td>\n",
       "      <td>79084.10</td>\n",
       "      <td>0</td>\n",
       "      <td>0</td>\n",
       "      <td>1</td>\n",
       "      <td>0</td>\n",
       "    </tr>\n",
       "  </tbody>\n",
       "</table>\n",
       "</div>"
      ],
      "text/plain": [
       "   CreditScore  Age  Tenure    Balance  NumOfProducts  HasCrCard  \\\n",
       "0          619   42     2.0       0.00              1          1   \n",
       "1          608   41     1.0   83807.86              1          0   \n",
       "2          502   42     8.0  159660.80              3          1   \n",
       "3          699   39     1.0       0.00              2          0   \n",
       "4          850   43     2.0  125510.82              1          1   \n",
       "\n",
       "   IsActiveMember  EstimatedSalary  Exited  Geography_Germany  \\\n",
       "0               1        101348.88       1                  0   \n",
       "1               1        112542.58       0                  0   \n",
       "2               0        113931.57       1                  0   \n",
       "3               0         93826.63       0                  0   \n",
       "4               1         79084.10       0                  0   \n",
       "\n",
       "   Geography_Spain  Gender_Male  \n",
       "0                0            0  \n",
       "1                1            0  \n",
       "2                0            0  \n",
       "3                0            0  \n",
       "4                1            0  "
      ]
     },
     "execution_count": 12,
     "metadata": {},
     "output_type": "execute_result"
    }
   ],
   "source": [
    "data_ohe = pd.get_dummies(data, drop_first=True)\n",
    "data_ohe.head()"
   ]
  },
  {
   "cell_type": "markdown",
   "metadata": {},
   "source": [
    "Мы устранили избыточное количество сильно зависимых столбцов для избежания дамми-ловушки, после преобразования качественных столбцов, но как насчет всего датафрейма? На всякий случай составим корреляционную матрицу для всего датасета"
   ]
  },
  {
   "cell_type": "code",
   "execution_count": 13,
   "metadata": {
    "scrolled": true
   },
   "outputs": [
    {
     "data": {
      "text/plain": [
       "<Axes: >"
      ]
     },
     "execution_count": 13,
     "metadata": {},
     "output_type": "execute_result"
    },
    {
     "data": {
      "image/png": "[encoded data removed]",
      "text/plain": [
       "<Figure size 1200x400 with 2 Axes>"
      ]
     },
     "metadata": {},
     "output_type": "display_data"
    }
   ],
   "source": [
    "sns.set(rc = {'figure.figsize':(12,4)})\n",
    "sns.heatmap(data_ohe.corr(), annot = True, fmt='.1g')"
   ]
  },
  {
   "cell_type": "markdown",
   "metadata": {},
   "source": [
    "Тепловая карта не выявила корреляций между столбцами. Наибольший коэффициент зависимости (0.4) обнаружен между столбцом, отражающим принадлежность клиента к Германии и его балансом, что косвенно указывает на то, что клиенты из Германии в целом побогаче, но не более того, поэтому считать данные сильно зависимыми не стоит. Далее делим датафрейм на обучающую, валидационную и тестовую выборки, а потом каждую из них разделим соответственно на признаки и целевой признак."
   ]
  },
  {
   "cell_type": "code",
   "execution_count": 14,
   "metadata": {},
   "outputs": [],
   "source": [
    "train, valid, test = np.split(data_ohe, [int(0.6*len(data)), int(0.8*len(data))])"
   ]
  },
  {
   "cell_type": "code",
   "execution_count": 15,
   "metadata": {},
   "outputs": [
    {
     "data": {
      "text/plain": [
       "(6000, 12)"
      ]
     },
     "metadata": {},
     "output_type": "display_data"
    },
    {
     "data": {
      "text/plain": [
       "(2000, 12)"
      ]
     },
     "metadata": {},
     "output_type": "display_data"
    },
    {
     "data": {
      "text/plain": [
       "(2000, 12)"
      ]
     },
     "metadata": {},
     "output_type": "display_data"
    }
   ],
   "source": [
    "dataframe = [train, valid, test]\n",
    "for element in dataframe:\n",
    "    display(element.shape)"
   ]
  },
  {
   "cell_type": "code",
   "execution_count": 16,
   "metadata": {},
   "outputs": [],
   "source": [
    "features_train = train.drop(['Exited'], axis=1)\n",
    "target_train = train['Exited']\n",
    "features_valid = valid.drop(['Exited'], axis=1)\n",
    "target_valid = valid['Exited']\n",
    "features_test = test.drop(['Exited'], axis=1)\n",
    "target_test = test['Exited']"
   ]
  },
  {
   "cell_type": "markdown",
   "metadata": {},
   "source": [
    "Датасеты с обучающими признаками нужно масштабировать. Для этого предварительно выделим все числовые столбцы."
   ]
  },
  {
   "cell_type": "code",
   "execution_count": 17,
   "metadata": {},
   "outputs": [],
   "source": [
    "numeric = ['CreditScore', 'Age', 'Tenure', 'Balance', 'NumOfProducts', 'EstimatedSalary']\n",
    "scaler = StandardScaler()\n",
    "scaler.fit(data_ohe[numeric])\n",
    "features_train[numeric] = scaler.transform(features_train[numeric])\n",
    "features_valid[numeric] = scaler.transform(features_valid[numeric])\n",
    "features_test[numeric] = scaler.transform(features_test[numeric])\n",
    "pd.options.mode.chained_assignment = None"
   ]
  },
  {
   "cell_type": "code",
   "execution_count": 18,
   "metadata": {},
   "outputs": [
    {
     "data": {
      "text/html": [
       "<div>\n",
       "<style scoped>\n",
       "    .dataframe tbody tr th:only-of-type {\n",
       "        vertical-align: middle;\n",
       "    }\n",
       "\n",
       "    .dataframe tbody tr th {\n",
       "        vertical-align: top;\n",
       "    }\n",
       "\n",
       "    .dataframe thead th {\n",
       "        text-align: right;\n",
       "    }\n",
       "</style>\n",
       "<table border=\"1\" class=\"dataframe\">\n",
       "  <thead>\n",
       "    <tr style=\"text-align: right;\">\n",
       "      <th></th>\n",
       "      <th>CreditScore</th>\n",
       "      <th>Age</th>\n",
       "      <th>Tenure</th>\n",
       "      <th>Balance</th>\n",
       "      <th>NumOfProducts</th>\n",
       "      <th>HasCrCard</th>\n",
       "      <th>IsActiveMember</th>\n",
       "      <th>EstimatedSalary</th>\n",
       "      <th>Geography_Germany</th>\n",
       "      <th>Geography_Spain</th>\n",
       "      <th>Gender_Male</th>\n",
       "    </tr>\n",
       "  </thead>\n",
       "  <tbody>\n",
       "    <tr>\n",
       "      <th>0</th>\n",
       "      <td>-0.326221</td>\n",
       "      <td>0.293517</td>\n",
       "      <td>-1.086246</td>\n",
       "      <td>-1.225848</td>\n",
       "      <td>-0.911583</td>\n",
       "      <td>1</td>\n",
       "      <td>1</td>\n",
       "      <td>0.021886</td>\n",
       "      <td>0</td>\n",
       "      <td>0</td>\n",
       "      <td>0</td>\n",
       "    </tr>\n",
       "    <tr>\n",
       "      <th>1</th>\n",
       "      <td>-0.440036</td>\n",
       "      <td>0.198164</td>\n",
       "      <td>-1.448581</td>\n",
       "      <td>0.117350</td>\n",
       "      <td>-0.911583</td>\n",
       "      <td>0</td>\n",
       "      <td>1</td>\n",
       "      <td>0.216534</td>\n",
       "      <td>0</td>\n",
       "      <td>1</td>\n",
       "      <td>0</td>\n",
       "    </tr>\n",
       "    <tr>\n",
       "      <th>2</th>\n",
       "      <td>-1.536794</td>\n",
       "      <td>0.293517</td>\n",
       "      <td>1.087768</td>\n",
       "      <td>1.333053</td>\n",
       "      <td>2.527057</td>\n",
       "      <td>1</td>\n",
       "      <td>0</td>\n",
       "      <td>0.240687</td>\n",
       "      <td>0</td>\n",
       "      <td>0</td>\n",
       "      <td>0</td>\n",
       "    </tr>\n",
       "    <tr>\n",
       "      <th>3</th>\n",
       "      <td>0.501521</td>\n",
       "      <td>0.007457</td>\n",
       "      <td>-1.448581</td>\n",
       "      <td>-1.225848</td>\n",
       "      <td>0.807737</td>\n",
       "      <td>0</td>\n",
       "      <td>0</td>\n",
       "      <td>-0.108918</td>\n",
       "      <td>0</td>\n",
       "      <td>0</td>\n",
       "      <td>0</td>\n",
       "    </tr>\n",
       "    <tr>\n",
       "      <th>4</th>\n",
       "      <td>2.063884</td>\n",
       "      <td>0.388871</td>\n",
       "      <td>-1.086246</td>\n",
       "      <td>0.785728</td>\n",
       "      <td>-0.911583</td>\n",
       "      <td>1</td>\n",
       "      <td>1</td>\n",
       "      <td>-0.365276</td>\n",
       "      <td>0</td>\n",
       "      <td>1</td>\n",
       "      <td>0</td>\n",
       "    </tr>\n",
       "  </tbody>\n",
       "</table>\n",
       "</div>"
      ],
      "text/plain": [
       "   CreditScore       Age    Tenure   Balance  NumOfProducts  HasCrCard  \\\n",
       "0    -0.326221  0.293517 -1.086246 -1.225848      -0.911583          1   \n",
       "1    -0.440036  0.198164 -1.448581  0.117350      -0.911583          0   \n",
       "2    -1.536794  0.293517  1.087768  1.333053       2.527057          1   \n",
       "3     0.501521  0.007457 -1.448581 -1.225848       0.807737          0   \n",
       "4     2.063884  0.388871 -1.086246  0.785728      -0.911583          1   \n",
       "\n",
       "   IsActiveMember  EstimatedSalary  Geography_Germany  Geography_Spain  \\\n",
       "0               1         0.021886                  0                0   \n",
       "1               1         0.216534                  0                1   \n",
       "2               0         0.240687                  0                0   \n",
       "3               0        -0.108918                  0                0   \n",
       "4               1        -0.365276                  0                1   \n",
       "\n",
       "   Gender_Male  \n",
       "0            0  \n",
       "1            0  \n",
       "2            0  \n",
       "3            0  \n",
       "4            0  "
      ]
     },
     "execution_count": 18,
     "metadata": {},
     "output_type": "execute_result"
    }
   ],
   "source": [
    "features_train.head()"
   ]
  },
  {
   "cell_type": "code",
   "execution_count": 19,
   "metadata": {},
   "outputs": [
    {
     "data": {
      "text/html": [
       "<div>\n",
       "<style scoped>\n",
       "    .dataframe tbody tr th:only-of-type {\n",
       "        vertical-align: middle;\n",
       "    }\n",
       "\n",
       "    .dataframe tbody tr th {\n",
       "        vertical-align: top;\n",
       "    }\n",
       "\n",
       "    .dataframe thead th {\n",
       "        text-align: right;\n",
       "    }\n",
       "</style>\n",
       "<table border=\"1\" class=\"dataframe\">\n",
       "  <thead>\n",
       "    <tr style=\"text-align: right;\">\n",
       "      <th></th>\n",
       "      <th>CreditScore</th>\n",
       "      <th>Age</th>\n",
       "      <th>Tenure</th>\n",
       "      <th>Balance</th>\n",
       "      <th>NumOfProducts</th>\n",
       "      <th>HasCrCard</th>\n",
       "      <th>IsActiveMember</th>\n",
       "      <th>EstimatedSalary</th>\n",
       "      <th>Geography_Germany</th>\n",
       "      <th>Geography_Spain</th>\n",
       "      <th>Gender_Male</th>\n",
       "    </tr>\n",
       "  </thead>\n",
       "  <tbody>\n",
       "    <tr>\n",
       "      <th>6000</th>\n",
       "      <td>-0.222754</td>\n",
       "      <td>-0.183251</td>\n",
       "      <td>1.812439</td>\n",
       "      <td>0.369591</td>\n",
       "      <td>2.527057</td>\n",
       "      <td>0</td>\n",
       "      <td>1</td>\n",
       "      <td>-1.303363</td>\n",
       "      <td>0</td>\n",
       "      <td>0</td>\n",
       "      <td>0</td>\n",
       "    </tr>\n",
       "    <tr>\n",
       "      <th>6001</th>\n",
       "      <td>1.287876</td>\n",
       "      <td>-0.850726</td>\n",
       "      <td>0.000761</td>\n",
       "      <td>-1.225848</td>\n",
       "      <td>-0.911583</td>\n",
       "      <td>1</td>\n",
       "      <td>0</td>\n",
       "      <td>1.630921</td>\n",
       "      <td>0</td>\n",
       "      <td>0</td>\n",
       "      <td>0</td>\n",
       "    </tr>\n",
       "    <tr>\n",
       "      <th>6002</th>\n",
       "      <td>0.522214</td>\n",
       "      <td>0.198164</td>\n",
       "      <td>-1.086246</td>\n",
       "      <td>-1.225848</td>\n",
       "      <td>-0.911583</td>\n",
       "      <td>1</td>\n",
       "      <td>0</td>\n",
       "      <td>-0.908288</td>\n",
       "      <td>0</td>\n",
       "      <td>0</td>\n",
       "      <td>0</td>\n",
       "    </tr>\n",
       "    <tr>\n",
       "      <th>6003</th>\n",
       "      <td>0.594642</td>\n",
       "      <td>-1.899615</td>\n",
       "      <td>0.725432</td>\n",
       "      <td>0.579059</td>\n",
       "      <td>-0.911583</td>\n",
       "      <td>1</td>\n",
       "      <td>1</td>\n",
       "      <td>-1.662362</td>\n",
       "      <td>0</td>\n",
       "      <td>1</td>\n",
       "      <td>1</td>\n",
       "    </tr>\n",
       "    <tr>\n",
       "      <th>6004</th>\n",
       "      <td>-1.340205</td>\n",
       "      <td>-1.613554</td>\n",
       "      <td>1.812439</td>\n",
       "      <td>-1.225848</td>\n",
       "      <td>-0.911583</td>\n",
       "      <td>1</td>\n",
       "      <td>1</td>\n",
       "      <td>0.021244</td>\n",
       "      <td>0</td>\n",
       "      <td>1</td>\n",
       "      <td>0</td>\n",
       "    </tr>\n",
       "  </tbody>\n",
       "</table>\n",
       "</div>"
      ],
      "text/plain": [
       "      CreditScore       Age    Tenure   Balance  NumOfProducts  HasCrCard  \\\n",
       "6000    -0.222754 -0.183251  1.812439  0.369591       2.527057          0   \n",
       "6001     1.287876 -0.850726  0.000761 -1.225848      -0.911583          1   \n",
       "6002     0.522214  0.198164 -1.086246 -1.225848      -0.911583          1   \n",
       "6003     0.594642 -1.899615  0.725432  0.579059      -0.911583          1   \n",
       "6004    -1.340205 -1.613554  1.812439 -1.225848      -0.911583          1   \n",
       "\n",
       "      IsActiveMember  EstimatedSalary  Geography_Germany  Geography_Spain  \\\n",
       "6000               1        -1.303363                  0                0   \n",
       "6001               0         1.630921                  0                0   \n",
       "6002               0        -0.908288                  0                0   \n",
       "6003               1        -1.662362                  0                1   \n",
       "6004               1         0.021244                  0                1   \n",
       "\n",
       "      Gender_Male  \n",
       "6000            0  \n",
       "6001            0  \n",
       "6002            0  \n",
       "6003            1  \n",
       "6004            0  "
      ]
     },
     "execution_count": 19,
     "metadata": {},
     "output_type": "execute_result"
    }
   ],
   "source": [
    "features_valid.head()"
   ]
  },
  {
   "cell_type": "code",
   "execution_count": 20,
   "metadata": {},
   "outputs": [
    {
     "data": {
      "text/html": [
       "<div>\n",
       "<style scoped>\n",
       "    .dataframe tbody tr th:only-of-type {\n",
       "        vertical-align: middle;\n",
       "    }\n",
       "\n",
       "    .dataframe tbody tr th {\n",
       "        vertical-align: top;\n",
       "    }\n",
       "\n",
       "    .dataframe thead th {\n",
       "        text-align: right;\n",
       "    }\n",
       "</style>\n",
       "<table border=\"1\" class=\"dataframe\">\n",
       "  <thead>\n",
       "    <tr style=\"text-align: right;\">\n",
       "      <th></th>\n",
       "      <th>CreditScore</th>\n",
       "      <th>Age</th>\n",
       "      <th>Tenure</th>\n",
       "      <th>Balance</th>\n",
       "      <th>NumOfProducts</th>\n",
       "      <th>HasCrCard</th>\n",
       "      <th>IsActiveMember</th>\n",
       "      <th>EstimatedSalary</th>\n",
       "      <th>Geography_Germany</th>\n",
       "      <th>Geography_Spain</th>\n",
       "      <th>Gender_Male</th>\n",
       "    </tr>\n",
       "  </thead>\n",
       "  <tbody>\n",
       "    <tr>\n",
       "      <th>8000</th>\n",
       "      <td>0.998166</td>\n",
       "      <td>-0.278604</td>\n",
       "      <td>1.087768</td>\n",
       "      <td>0.418587</td>\n",
       "      <td>0.807737</td>\n",
       "      <td>1</td>\n",
       "      <td>1</td>\n",
       "      <td>1.401612</td>\n",
       "      <td>1</td>\n",
       "      <td>0</td>\n",
       "      <td>1</td>\n",
       "    </tr>\n",
       "    <tr>\n",
       "      <th>8001</th>\n",
       "      <td>0.584295</td>\n",
       "      <td>-0.660018</td>\n",
       "      <td>1.450103</td>\n",
       "      <td>-1.225848</td>\n",
       "      <td>0.807737</td>\n",
       "      <td>1</td>\n",
       "      <td>0</td>\n",
       "      <td>0.458818</td>\n",
       "      <td>0</td>\n",
       "      <td>1</td>\n",
       "      <td>1</td>\n",
       "    </tr>\n",
       "    <tr>\n",
       "      <th>8002</th>\n",
       "      <td>-0.626278</td>\n",
       "      <td>-0.183251</td>\n",
       "      <td>-1.448581</td>\n",
       "      <td>-1.225848</td>\n",
       "      <td>0.807737</td>\n",
       "      <td>0</td>\n",
       "      <td>0</td>\n",
       "      <td>0.581588</td>\n",
       "      <td>0</td>\n",
       "      <td>1</td>\n",
       "      <td>1</td>\n",
       "    </tr>\n",
       "    <tr>\n",
       "      <th>8003</th>\n",
       "      <td>-0.491770</td>\n",
       "      <td>1.723821</td>\n",
       "      <td>0.363096</td>\n",
       "      <td>0.457012</td>\n",
       "      <td>0.807737</td>\n",
       "      <td>1</td>\n",
       "      <td>1</td>\n",
       "      <td>-0.220458</td>\n",
       "      <td>0</td>\n",
       "      <td>1</td>\n",
       "      <td>1</td>\n",
       "    </tr>\n",
       "    <tr>\n",
       "      <th>8004</th>\n",
       "      <td>-0.367609</td>\n",
       "      <td>0.579578</td>\n",
       "      <td>0.000761</td>\n",
       "      <td>-1.225848</td>\n",
       "      <td>0.807737</td>\n",
       "      <td>1</td>\n",
       "      <td>1</td>\n",
       "      <td>1.126745</td>\n",
       "      <td>0</td>\n",
       "      <td>0</td>\n",
       "      <td>1</td>\n",
       "    </tr>\n",
       "  </tbody>\n",
       "</table>\n",
       "</div>"
      ],
      "text/plain": [
       "      CreditScore       Age    Tenure   Balance  NumOfProducts  HasCrCard  \\\n",
       "8000     0.998166 -0.278604  1.087768  0.418587       0.807737          1   \n",
       "8001     0.584295 -0.660018  1.450103 -1.225848       0.807737          1   \n",
       "8002    -0.626278 -0.183251 -1.448581 -1.225848       0.807737          0   \n",
       "8003    -0.491770  1.723821  0.363096  0.457012       0.807737          1   \n",
       "8004    -0.367609  0.579578  0.000761 -1.225848       0.807737          1   \n",
       "\n",
       "      IsActiveMember  EstimatedSalary  Geography_Germany  Geography_Spain  \\\n",
       "8000               1         1.401612                  1                0   \n",
       "8001               0         0.458818                  0                1   \n",
       "8002               0         0.581588                  0                1   \n",
       "8003               1        -0.220458                  0                1   \n",
       "8004               1         1.126745                  0                0   \n",
       "\n",
       "      Gender_Male  \n",
       "8000            1  \n",
       "8001            1  \n",
       "8002            1  \n",
       "8003            1  \n",
       "8004            1  "
      ]
     },
     "execution_count": 20,
     "metadata": {},
     "output_type": "execute_result"
    }
   ],
   "source": [
    "features_test.head()"
   ]
  },
  {
   "cell_type": "markdown",
   "metadata": {},
   "source": [
    "Общие итоги:\n",
    "\n",
    "- Проверили датасет на пропуски и дубликаты. Обработали пропуски, заполнив специальным значением -1\n",
    "- Избавились от лишних столбцов, которые бесполезны для обучения модели\n",
    "- Проверили корреляцию показателей, убеившись, что сильная зависимость отсутствует\n",
    "- Преобразовали качественные данные методом прямого кодирования\n",
    "- Провели масштабирование признаков \n",
    "- Разделили датасет на три выборки, выделив обучающие признаки и целевой признак"
   ]
  },
  {
   "cell_type": "markdown",
   "metadata": {},
   "source": [
    "## Исследование задачи"
   ]
  },
  {
   "cell_type": "markdown",
   "metadata": {},
   "source": [
    "После подготовки данных попробуем обучить несколько моделей и проверить их качество. На этом этапе мы не будем принимать во внимание дисбаланс классов. В качестве моделей будем использовать логистическую регрессию, решающее дерево и случайный лес. В этом блоке мы намеренно игнорируем дисбаланс, чтобы понять, как его устранени повлияет на качество модели, но для общего понимания сразу же посчитаем его."
   ]
  },
  {
   "cell_type": "code",
   "execution_count": 21,
   "metadata": {},
   "outputs": [
    {
     "data": {
      "text/plain": [
       "0    7963\n",
       "1    2037\n",
       "Name: Exited, dtype: int64"
      ]
     },
     "execution_count": 21,
     "metadata": {},
     "output_type": "execute_result"
    }
   ],
   "source": [
    "data_ohe['Exited'].value_counts()"
   ]
  },
  {
   "cell_type": "code",
   "execution_count": 22,
   "metadata": {},
   "outputs": [
    {
     "data": {
      "text/plain": [
       "0    4751\n",
       "1    1249\n",
       "Name: Exited, dtype: int64"
      ]
     },
     "execution_count": 22,
     "metadata": {},
     "output_type": "execute_result"
    }
   ],
   "source": [
    "train['Exited'].value_counts()"
   ]
  },
  {
   "cell_type": "markdown",
   "metadata": {},
   "source": [
    "Соотношение между \"отвалившимися\" и оставшимися клиентами составляет приблизительно 1/4, что говорит о серьезном дисбалансе значений. Далее перейдем к моделям."
   ]
  },
  {
   "cell_type": "code",
   "execution_count": 23,
   "metadata": {},
   "outputs": [
    {
     "name": "stdout",
     "output_type": "stream",
     "text": [
      "F1-мера составила: 0.3881118881118881\n",
      "AUC-ROC: 0.7691092792301081\n",
      "CPU times: total: 0 ns\n",
      "Wall time: 34.7 ms\n"
     ]
    }
   ],
   "source": [
    "%%time\n",
    "# Логистическая регрессия \n",
    "\n",
    "model = LogisticRegression(random_state=12345, solver='liblinear')\n",
    "model.fit(features_train, target_train)\n",
    "predicted_valid = model.predict(features_valid)\n",
    "probabilities_valid = model.predict_proba(features_valid)\n",
    "\n",
    "print('F1-мера составила:', f1_score(target_valid, predicted_valid))\n",
    "print('AUC-ROC:', roc_auc_score(target_valid, probabilities_valid[:, 1]))"
   ]
  },
  {
   "cell_type": "code",
   "execution_count": 24,
   "metadata": {},
   "outputs": [
    {
     "name": "stdout",
     "output_type": "stream",
     "text": [
      "Глубина лучшей модели: 5\n",
      "F1 лучшей модели: 0.6095791001451378\n",
      "AUC-ROC лучшей модели: 0.8471257661591353\n",
      "CPU times: total: 719 ms\n",
      "Wall time: 873 ms\n"
     ]
    }
   ],
   "source": [
    "%%time\n",
    "# Решающее дерево\n",
    "\n",
    "best_f1_result = 0\n",
    "best_tree_depth = 0\n",
    "best_model = None\n",
    "for depth in range(1, 21):\n",
    "    model = DecisionTreeClassifier(random_state=12345, max_depth=depth)\n",
    "    model.fit(features_train, target_train)\n",
    "    predicted_valid = model.predict(features_valid)\n",
    "    F1 = f1_score(target_valid, predicted_valid)\n",
    "    if F1 > best_f1_result:\n",
    "        best_tree_depth = depth\n",
    "        best_f1_result = F1\n",
    "        best_model = model\n",
    "\n",
    "print('Глубина лучшей модели:', best_tree_depth)\n",
    "print('F1 лучшей модели:', best_f1_result)\n",
    "probabilities_valid = best_model.predict_proba(features_valid)\n",
    "print('AUC-ROC лучшей модели:', roc_auc_score(target_valid, probabilities_valid[:, 1]))"
   ]
  },
  {
   "cell_type": "code",
   "execution_count": 25,
   "metadata": {},
   "outputs": [
    {
     "name": "stdout",
     "output_type": "stream",
     "text": [
      "Количество деревьев лучшей модели: 47\n",
      "Глубина лучшей модели: 15\n",
      "F1 лучшей модели: 0.6170212765957447\n",
      "AUC-ROC лучшей модели: 0.8548163727501428\n",
      "CPU times: total: 57.1 s\n",
      "Wall time: 1min 39s\n"
     ]
    }
   ],
   "source": [
    "%%time\n",
    "#Случайный лес\n",
    "\n",
    "best_f1_result = 0\n",
    "best_tree_depth = 0\n",
    "best_estimators = 0\n",
    "best_model = None\n",
    "for est in range(1, 101):\n",
    "    model = RandomForestClassifier(random_state=12345, n_estimators=est)\n",
    "    model.fit(features_train, target_train)\n",
    "    predicted_valid = model.predict(features_valid)\n",
    "    F1 = f1_score(target_valid, predicted_valid)\n",
    "    if F1 > best_f1_result:\n",
    "        best_estimators = est\n",
    "        best_f1_result = F1\n",
    "        best_model = model\n",
    "    \n",
    "for depth in range(1, 21):\n",
    "    model = model = RandomForestClassifier(random_state=12345, n_estimators=best_estimators, max_depth=depth)\n",
    "    model.fit(features_train, target_train)\n",
    "    predicted_valid = model.predict(features_valid)\n",
    "    F1 = f1_score(target_valid, predicted_valid)\n",
    "    if F1 > best_f1_result:\n",
    "        best_depth = depth\n",
    "        best_f1_result = F1\n",
    "        best_model = model\n",
    "\n",
    "print('Количество деревьев лучшей модели:', best_estimators)\n",
    "print('Глубина лучшей модели:', best_depth)\n",
    "print('F1 лучшей модели:', best_f1_result)\n",
    "probabilities_valid = best_model.predict_proba(features_valid)\n",
    "print('AUC-ROC лучшей модели:', roc_auc_score(target_valid, probabilities_valid[:, 1]))"
   ]
  },
  {
   "cell_type": "markdown",
   "metadata": {},
   "source": [
    "Наилучший результат показала модель Случайный лес с 75 деревьями и глубиной 19, значения для F1 и AUC-ROC составили соответственно 0.61 и 0.85. Мы не работали с дисбалансом классов, а значит следует проверить, изменятся ли наши показатели при его устранении. Прежде чем проводить исследование с устраненным дисбалансом, попробуем повторить обучение моделей, но с учетом веса классов в моделях"
   ]
  },
  {
   "cell_type": "code",
   "execution_count": 26,
   "metadata": {},
   "outputs": [
    {
     "name": "stdout",
     "output_type": "stream",
     "text": [
      "F1-мера составила: 0.4796380090497738\n",
      "AUC-ROC: 0.7736309512606728\n",
      "CPU times: total: 15.6 ms\n",
      "Wall time: 20.9 ms\n"
     ]
    }
   ],
   "source": [
    "%%time\n",
    "# Логистическая регрессия \n",
    "\n",
    "model = LogisticRegression(random_state=12345, solver='liblinear', class_weight='balanced')\n",
    "model.fit(features_train, target_train)\n",
    "predicted_valid = model.predict(features_valid)\n",
    "probabilities_valid = model.predict_proba(features_valid)\n",
    "\n",
    "print('F1-мера составила:', f1_score(target_valid, predicted_valid))\n",
    "print('AUC-ROC:', roc_auc_score(target_valid, probabilities_valid[:, 1]))"
   ]
  },
  {
   "cell_type": "code",
   "execution_count": 27,
   "metadata": {},
   "outputs": [
    {
     "name": "stdout",
     "output_type": "stream",
     "text": [
      "Глубина лучшей модели: 6\n",
      "F1 лучшей модели: 0.573385518590998\n",
      "AUC-ROC лучшей модели: 0.8412811560925726\n",
      "CPU times: total: 766 ms\n",
      "Wall time: 1.11 s\n"
     ]
    }
   ],
   "source": [
    "%%time\n",
    "# Решающее дерево\n",
    "\n",
    "best_f1_result = 0\n",
    "best_tree_depth = 0\n",
    "best_model = None\n",
    "for depth in range(1, 21):\n",
    "    model = DecisionTreeClassifier(random_state=12345, max_depth=depth, class_weight='balanced')\n",
    "    model.fit(features_train, target_train)\n",
    "    predicted_valid = model.predict(features_valid)\n",
    "    F1 = f1_score(target_valid, predicted_valid)\n",
    "    if F1 > best_f1_result:\n",
    "        best_tree_depth = depth\n",
    "        best_f1_result = F1\n",
    "        best_model = model\n",
    "\n",
    "print('Глубина лучшей модели:', best_tree_depth)\n",
    "print('F1 лучшей модели:', best_f1_result)\n",
    "probabilities_valid = best_model.predict_proba(features_valid)\n",
    "print('AUC-ROC лучшей модели:', roc_auc_score(target_valid, probabilities_valid[:, 1]))"
   ]
  },
  {
   "cell_type": "code",
   "execution_count": 28,
   "metadata": {},
   "outputs": [
    {
     "name": "stdout",
     "output_type": "stream",
     "text": [
      "Количество деревьев лучшей модели: 11\n",
      "Глубина лучшей модели: 14\n",
      "F1 лучшей модели: 0.6246498599439777\n",
      "AUC-ROC лучшей модели: 0.8528151054899967\n",
      "CPU times: total: 53.1 s\n",
      "Wall time: 1min 26s\n"
     ]
    }
   ],
   "source": [
    "%%time\n",
    "#Случайный лес\n",
    "\n",
    "best_f1_result = 0\n",
    "best_tree_depth = 0\n",
    "best_estimators = 0\n",
    "best_model = None\n",
    "for est in range(1, 101):\n",
    "    model = RandomForestClassifier(random_state=12345, n_estimators=est, class_weight='balanced')\n",
    "    model.fit(features_train, target_train)\n",
    "    predicted_valid = model.predict(features_valid)\n",
    "    F1 = f1_score(target_valid, predicted_valid)\n",
    "    if F1 > best_f1_result:\n",
    "        best_estimators = est\n",
    "        best_f1_result = F1\n",
    "        best_model = model\n",
    "    \n",
    "for depth in range(1, 21):\n",
    "    model = model = RandomForestClassifier(random_state=12345, n_estimators=best_estimators, max_depth=depth, \n",
    "                                           class_weight='balanced')\n",
    "    model.fit(features_train, target_train)\n",
    "    predicted_valid = model.predict(features_valid)\n",
    "    F1 = f1_score(target_valid, predicted_valid)\n",
    "    if F1 > best_f1_result:\n",
    "        best_depth = depth\n",
    "        best_f1_result = F1\n",
    "        best_model = model\n",
    "\n",
    "print('Количество деревьев лучшей модели:', best_estimators)\n",
    "print('Глубина лучшей модели:', best_depth)\n",
    "print('F1 лучшей модели:', best_f1_result)\n",
    "probabilities_valid = best_model.predict_proba(features_valid)\n",
    "print('AUC-ROC лучшей модели:', roc_auc_score(target_valid, probabilities_valid[:, 1]))"
   ]
  },
  {
   "cell_type": "markdown",
   "metadata": {},
   "source": [
    "Итак, что мы получаем? Лучший результат у случайного леса. И этот результат улучшается при соблюдении принципа учета веса классов. Значения F1 и AUC-ROC составили 0.63 и 0.86 соответственно. "
   ]
  },
  {
   "cell_type": "markdown",
   "metadata": {},
   "source": [
    "## Борьба с дисбалансом"
   ]
  },
  {
   "cell_type": "markdown",
   "metadata": {},
   "source": [
    "Как мы выяснили в разделе 2, на одно значение \"1\" приходится четыре значения \"0\", что говорит нам о необходимости устранения дисбаланса. "
   ]
  },
  {
   "cell_type": "markdown",
   "metadata": {},
   "source": [
    "Сначала попробуем метод увеличения выборки"
   ]
  },
  {
   "cell_type": "code",
   "execution_count": 29,
   "metadata": {},
   "outputs": [],
   "source": [
    "def upsample(features, target, repeat):\n",
    "    features_ones = features[target == 1]\n",
    "    features_zeros = features[target == 0]\n",
    "    target_ones = target[target == 1]\n",
    "    target_zeros = target[target == 0]\n",
    "    \n",
    "    features_upsampled = pd.concat([features_zeros] + [features_ones] * repeat)\n",
    "    target_upsampled = pd.concat([target_zeros] + [target_ones] * repeat)\n",
    "    \n",
    "    features_upsampled, target_upsampled = shuffle(features_upsampled, target_upsampled, random_state = 12345)\n",
    "    \n",
    "    return features_upsampled, target_upsampled\n",
    "\n",
    "features_upsampled, target_upsampled = upsample(features_train, target_train, 4)"
   ]
  },
  {
   "cell_type": "code",
   "execution_count": 30,
   "metadata": {},
   "outputs": [
    {
     "name": "stdout",
     "output_type": "stream",
     "text": [
      "(6000, 11)\n",
      "(6000,)\n",
      "(9747, 11)\n",
      "(9747,)\n"
     ]
    }
   ],
   "source": [
    "print(features_train.shape)\n",
    "print(target_train.shape)\n",
    "print(features_upsampled.shape)\n",
    "print(target_upsampled.shape)"
   ]
  },
  {
   "cell_type": "markdown",
   "metadata": {},
   "source": [
    "Проверим снова все модели, но уже с учетом проведенной работы по устранению дисбаланса "
   ]
  },
  {
   "cell_type": "code",
   "execution_count": 31,
   "metadata": {},
   "outputs": [
    {
     "name": "stdout",
     "output_type": "stream",
     "text": [
      "F1-мера составила: 0.47585601404741007\n",
      "AUC-ROC: 0.7737705380836769\n",
      "CPU times: total: 31.2 ms\n",
      "Wall time: 25 ms\n"
     ]
    }
   ],
   "source": [
    "%%time\n",
    "# Логистическая регрессия \n",
    "\n",
    "model = LogisticRegression(random_state=12345, solver='liblinear')\n",
    "model.fit(features_upsampled, target_upsampled)\n",
    "predicted_valid = model.predict(features_valid)\n",
    "probabilities_valid = model.predict_proba(features_valid)\n",
    "\n",
    "print('F1-мера составила:', f1_score(target_valid, predicted_valid))\n",
    "print('AUC-ROC:', roc_auc_score(target_valid, probabilities_valid[:, 1]))"
   ]
  },
  {
   "cell_type": "code",
   "execution_count": 32,
   "metadata": {},
   "outputs": [
    {
     "name": "stdout",
     "output_type": "stream",
     "text": [
      "Глубина лучшей модели: 6\n",
      "F1 лучшей модели: 0.577560975609756\n",
      "AUC-ROC лучшей модели: 0.8486063275177385\n",
      "CPU times: total: 891 ms\n",
      "Wall time: 987 ms\n"
     ]
    }
   ],
   "source": [
    "%%time\n",
    "# Решающее дерево\n",
    "\n",
    "best_f1_result = 0\n",
    "best_tree_depth = 0\n",
    "best_model = None\n",
    "for depth in range(1, 21):\n",
    "    model = DecisionTreeClassifier(random_state=12345, max_depth=depth)\n",
    "    model.fit(features_upsampled, target_upsampled)\n",
    "    predicted_valid = model.predict(features_valid)\n",
    "    F1 = f1_score(target_valid, predicted_valid)\n",
    "    if F1 > best_f1_result:\n",
    "        best_tree_depth = depth\n",
    "        best_f1_result = F1\n",
    "        best_model = model\n",
    "\n",
    "print('Глубина лучшей модели:', best_tree_depth)\n",
    "print('F1 лучшей модели:', best_f1_result)\n",
    "probabilities_valid = best_model.predict_proba(features_valid)\n",
    "print('AUC-ROC лучшей модели:', roc_auc_score(target_valid, probabilities_valid[:, 1]))"
   ]
  },
  {
   "cell_type": "code",
   "execution_count": 33,
   "metadata": {},
   "outputs": [
    {
     "name": "stdout",
     "output_type": "stream",
     "text": [
      "Количество деревьев лучшей модели: 86\n",
      "Глубина лучшей модели: 14\n",
      "F1 лучшей модели: 0.6268656716417911\n",
      "AUC-ROC лучшей модели: 0.8541474538736128\n",
      "CPU times: total: 1min 23s\n",
      "Wall time: 2min 11s\n"
     ]
    }
   ],
   "source": [
    "%%time\n",
    "#Случайный лес\n",
    "\n",
    "best_f1_result = 0\n",
    "best_tree_depth = 0\n",
    "best_estimators = 0\n",
    "best_model = None\n",
    "for est in range(1, 101):\n",
    "    model = RandomForestClassifier(random_state=12345, n_estimators=est)\n",
    "    model.fit(features_upsampled, target_upsampled)\n",
    "    predicted_valid = model.predict(features_valid)\n",
    "    F1 = f1_score(target_valid, predicted_valid)\n",
    "    if F1 > best_f1_result:\n",
    "        best_estimators = est\n",
    "        best_f1_result = F1\n",
    "        best_model = model\n",
    "    \n",
    "for depth in range(1, 21):\n",
    "    model = RandomForestClassifier(random_state=12345, n_estimators=best_estimators, max_depth=depth)\n",
    "    model.fit(features_upsampled, target_upsampled)\n",
    "    predicted_valid = model.predict(features_valid)\n",
    "    F1 = f1_score(target_valid, predicted_valid)\n",
    "    if F1 > best_f1_result:\n",
    "        best_depth = depth\n",
    "        best_f1_result = F1\n",
    "        best_model = model\n",
    "\n",
    "print('Количество деревьев лучшей модели:', best_estimators)\n",
    "print('Глубина лучшей модели:', best_depth)\n",
    "print('F1 лучшей модели:', best_f1_result)\n",
    "probabilities_valid = best_model.predict_proba(features_valid)\n",
    "print('AUC-ROC лучшей модели:', roc_auc_score(target_valid, probabilities_valid[:, 1]))"
   ]
  },
  {
   "cell_type": "markdown",
   "metadata": {},
   "source": [
    "Попробуем другой способ и снова проверим модели. "
   ]
  },
  {
   "cell_type": "code",
   "execution_count": 34,
   "metadata": {},
   "outputs": [],
   "source": [
    "def downsample(features, target, fraction):\n",
    "    features_ones = features[target == 1]\n",
    "    features_zeros = features[target == 0]\n",
    "    target_ones = target[target == 1]\n",
    "    target_zeros = target[target == 0]\n",
    "    \n",
    "    features_downsampled = pd.concat([features_zeros.sample(frac=fraction, random_state = 12345)] + [features_ones])\n",
    "    target_downsampled = pd.concat([target_zeros.sample(frac=fraction, random_state = 12345)] + [target_ones])\n",
    "    \n",
    "    features_downsampled, target_downsampled = shuffle(features_downsampled, target_downsampled, random_state = 12345)\n",
    "    \n",
    "    return features_downsampled, target_downsampled\n",
    "\n",
    "features_downsampled, target_downsampled = downsample(features_train, target_train, 0.26)"
   ]
  },
  {
   "cell_type": "code",
   "execution_count": 35,
   "metadata": {},
   "outputs": [
    {
     "name": "stdout",
     "output_type": "stream",
     "text": [
      "(6000, 11)\n",
      "(6000,)\n",
      "(2484, 11)\n",
      "(2484,)\n"
     ]
    }
   ],
   "source": [
    "print(features_train.shape)\n",
    "print(target_train.shape)\n",
    "print(features_downsampled.shape)\n",
    "print(target_downsampled.shape)"
   ]
  },
  {
   "cell_type": "code",
   "execution_count": 36,
   "metadata": {},
   "outputs": [
    {
     "name": "stdout",
     "output_type": "stream",
     "text": [
      "F1-мера составила: 0.4861483467381591\n",
      "AUC-ROC: 0.7744684721986963\n",
      "CPU times: total: 15.6 ms\n",
      "Wall time: 26 ms\n"
     ]
    }
   ],
   "source": [
    "%%time\n",
    "# Логистическая регрессия \n",
    "\n",
    "model = LogisticRegression(random_state=12345, solver='liblinear')\n",
    "model.fit(features_downsampled, target_downsampled)\n",
    "predicted_valid = model.predict(features_valid)\n",
    "probabilities_valid = model.predict_proba(features_valid)\n",
    "\n",
    "print('F1-мера составила:', f1_score(target_valid, predicted_valid))\n",
    "print('AUC-ROC:', roc_auc_score(target_valid, probabilities_valid[:, 1]))"
   ]
  },
  {
   "cell_type": "code",
   "execution_count": 37,
   "metadata": {},
   "outputs": [
    {
     "name": "stdout",
     "output_type": "stream",
     "text": [
      "Глубина лучшей модели: 5\n",
      "F1 лучшей модели: 0.5593561368209256\n",
      "AUC-ROC лучшей модели: 0.8390799189455392\n",
      "CPU times: total: 406 ms\n",
      "Wall time: 483 ms\n"
     ]
    }
   ],
   "source": [
    "%%time\n",
    "# Решающее дерево\n",
    "\n",
    "best_f1_result = 0\n",
    "best_tree_depth = 0\n",
    "best_model = None\n",
    "for depth in range(1, 21):\n",
    "    model = DecisionTreeClassifier(random_state=12345, max_depth=depth)\n",
    "    model.fit(features_downsampled, target_downsampled)\n",
    "    predicted_valid = model.predict(features_valid)\n",
    "    F1 = f1_score(target_valid, predicted_valid)\n",
    "    if F1 > best_f1_result:\n",
    "        best_tree_depth = depth\n",
    "        best_f1_result = F1\n",
    "        best_model = model\n",
    "\n",
    "print('Глубина лучшей модели:', best_tree_depth)\n",
    "print('F1 лучшей модели:', best_f1_result)\n",
    "probabilities_valid = best_model.predict_proba(features_valid)\n",
    "print('AUC-ROC лучшей модели:', roc_auc_score(target_valid, probabilities_valid[:, 1]))"
   ]
  },
  {
   "cell_type": "code",
   "execution_count": 38,
   "metadata": {},
   "outputs": [
    {
     "name": "stdout",
     "output_type": "stream",
     "text": [
      "Количество деревьев лучшей модели: 68\n",
      "Глубина лучшей модели: 8\n",
      "F1 лучшей модели: 0.6\n",
      "AUC-ROC лучшей модели: 0.8618513917904128\n",
      "CPU times: total: 31.5 s\n",
      "Wall time: 49.9 s\n"
     ]
    }
   ],
   "source": [
    "%%time\n",
    "#Случайный лес\n",
    "\n",
    "best_f1_result = 0\n",
    "best_tree_depth = 0\n",
    "best_estimators = 0\n",
    "best_model = None\n",
    "for est in range(1, 101):\n",
    "    model = RandomForestClassifier(random_state=12345, n_estimators=est)\n",
    "    model.fit(features_downsampled, target_downsampled)\n",
    "    predicted_valid = model.predict(features_valid)\n",
    "    F1 = f1_score(target_valid, predicted_valid)\n",
    "    if F1 > best_f1_result:\n",
    "        best_estimators = est\n",
    "        best_f1_result = F1\n",
    "        best_model = model\n",
    "    \n",
    "for depth in range(1, 21):\n",
    "    model = RandomForestClassifier(random_state=12345, n_estimators=best_estimators, max_depth=depth)\n",
    "    model.fit(features_downsampled, target_downsampled)\n",
    "    predicted_valid = model.predict(features_valid)\n",
    "    F1 = f1_score(target_valid, predicted_valid)\n",
    "    if F1 > best_f1_result:\n",
    "        best_depth = depth\n",
    "        best_f1_result = F1\n",
    "        best_model = model\n",
    "\n",
    "print('Количество деревьев лучшей модели:', best_estimators)\n",
    "print('Глубина лучшей модели:', best_depth)\n",
    "print('F1 лучшей модели:', best_f1_result)\n",
    "probabilities_valid = best_model.predict_proba(features_valid)\n",
    "print('AUC-ROC лучшей модели:', roc_auc_score(target_valid, probabilities_valid[:, 1]))"
   ]
  },
  {
   "cell_type": "markdown",
   "metadata": {},
   "source": [
    "Общий вывод:\n",
    "Итак, на мой взгляд, лучшей моделью показал себя случайный лес с количеством деревьев 86 и глубиной 8, с устранением дисбаланса методом увеличения выборки, соответствующие значения F1 и AUC-ROC составили 0.625 и 0.855"
   ]
  },
  {
   "cell_type": "markdown",
   "metadata": {},
   "source": [
    "## Тестирование модели"
   ]
  },
  {
   "cell_type": "code",
   "execution_count": 40,
   "metadata": {},
   "outputs": [
    {
     "name": "stdout",
     "output_type": "stream",
     "text": [
      "F1 на тестовой выборке: 0.5678756476683937\n",
      "AUC-ROC на тестовой выборке: 0.8269796145883102\n",
      "CPU times: total: 15.6 ms\n",
      "Wall time: 41.9 ms\n"
     ]
    }
   ],
   "source": [
    "%%time\n",
    "features_list = [features_train, features_valid]\n",
    "features = pd.concat(features_list)\n",
    "\n",
    "target_list = [target_train, target_valid]\n",
    "target = pd.concat(target_list)\n",
    "\n",
    "model = DecisionTreeClassifier(random_state=12345, max_depth=5)\n",
    "model.fit(features_downsampled, target_downsampled)\n",
    "predicted_test = model.predict(features_test)\n",
    "print(\"F1 на тестовой выборке:\", f1_score(target_test, predicted_test))\n",
    "probabilities_test = model.predict_proba(features_test)\n",
    "print(\"AUC-ROC на тестовой выборке:\", roc_auc_score(target_test, probabilities_test[:, 1]))"
   ]
  },
  {
   "cell_type": "markdown",
   "metadata": {},
   "source": [
    "## Чек-лист готовности проекта"
   ]
  },
  {
   "cell_type": "markdown",
   "metadata": {},
   "source": [
    "Поставьте 'x' в выполненных пунктах. Далее нажмите Shift+Enter."
   ]
  },
  {
   "cell_type": "markdown",
   "metadata": {},
   "source": [
    "- [x]  Jupyter Notebook открыт\n",
    "- [x]  Весь код выполняется без ошибок\n",
    "- [x]  Ячейки с кодом расположены в порядке исполнения\n",
    "- [x]  Выполнен шаг 1: данные подготовлены\n",
    "- [x]  Выполнен шаг 2: задача исследована\n",
    "    - [x]  Исследован баланс классов\n",
    "    - [x]  Изучены модели без учёта дисбаланса\n",
    "    - [x]  Написаны выводы по результатам исследования\n",
    "- [x]  Выполнен шаг 3: учтён дисбаланс\n",
    "    - [x]  Применено несколько способов борьбы с дисбалансом\n",
    "    - [x]  Написаны выводы по результатам исследования\n",
    "- [x]  Выполнен шаг 4: проведено тестирование\n",
    "- [x]  Удалось достичь *F1*-меры не менее 0.59\n",
    "- [x]  Исследована метрика *AUC-ROC*"
   ]
  },
  {
   "cell_type": "code",
   "execution_count": null,
   "metadata": {},
   "outputs": [],
   "source": []
  }
 ],
 "metadata": {
  "ExecuteTimeLog": [
   {
    "duration": 388,
    "start_time": "2023-05-14T16:12:41.210Z"
   },
   {
    "duration": 215,
    "start_time": "2023-05-14T16:12:42.286Z"
   },
   {
    "duration": 78,
    "start_time": "2023-05-14T16:29:50.711Z"
   },
   {
    "duration": 54,
    "start_time": "2023-05-14T16:29:54.376Z"
   },
   {
    "duration": 22,
    "start_time": "2023-05-14T16:29:54.939Z"
   },
   {
    "duration": 1248,
    "start_time": "2023-05-14T20:19:22.717Z"
   },
   {
    "duration": 52,
    "start_time": "2023-05-14T20:19:25.359Z"
   },
   {
    "duration": 55,
    "start_time": "2023-05-14T20:23:54.056Z"
   },
   {
    "duration": 11,
    "start_time": "2023-05-14T20:24:00.153Z"
   },
   {
    "duration": 3,
    "start_time": "2023-05-14T20:34:19.096Z"
   },
   {
    "duration": 13,
    "start_time": "2023-05-14T20:35:19.033Z"
   },
   {
    "duration": 3,
    "start_time": "2023-05-14T20:35:25.533Z"
   },
   {
    "duration": 21,
    "start_time": "2023-05-14T20:53:07.106Z"
   },
   {
    "duration": 5,
    "start_time": "2023-05-14T20:53:31.101Z"
   },
   {
    "duration": 10,
    "start_time": "2023-05-14T20:53:44.053Z"
   },
   {
    "duration": 5,
    "start_time": "2023-05-14T20:53:50.212Z"
   },
   {
    "duration": 5,
    "start_time": "2023-05-14T20:54:05.623Z"
   },
   {
    "duration": 1150,
    "start_time": "2023-05-14T20:58:15.135Z"
   },
   {
    "duration": 5,
    "start_time": "2023-05-14T20:58:23.474Z"
   },
   {
    "duration": 1115,
    "start_time": "2023-05-14T20:58:24.525Z"
   },
   {
    "duration": 6,
    "start_time": "2023-05-14T20:58:34.141Z"
   },
   {
    "duration": 4,
    "start_time": "2023-05-14T21:01:01.771Z"
   },
   {
    "duration": 12,
    "start_time": "2023-05-14T21:01:12.851Z"
   },
   {
    "duration": 1311,
    "start_time": "2023-05-14T21:01:28.372Z"
   },
   {
    "duration": 54,
    "start_time": "2023-05-14T21:01:29.685Z"
   },
   {
    "duration": 13,
    "start_time": "2023-05-14T21:01:29.741Z"
   },
   {
    "duration": 13,
    "start_time": "2023-05-14T21:01:29.756Z"
   },
   {
    "duration": 6,
    "start_time": "2023-05-14T21:01:29.772Z"
   },
   {
    "duration": 41,
    "start_time": "2023-05-14T21:01:29.780Z"
   },
   {
    "duration": 12,
    "start_time": "2023-05-14T21:01:29.823Z"
   },
   {
    "duration": 130,
    "start_time": "2023-05-14T21:01:29.837Z"
   },
   {
    "duration": 14,
    "start_time": "2023-05-14T21:01:43.945Z"
   },
   {
    "duration": 13,
    "start_time": "2023-05-14T21:02:07.740Z"
   },
   {
    "duration": 11,
    "start_time": "2023-05-14T21:02:14.135Z"
   },
   {
    "duration": 1472,
    "start_time": "2023-05-14T21:02:18.212Z"
   },
   {
    "duration": 57,
    "start_time": "2023-05-14T21:02:19.687Z"
   },
   {
    "duration": 13,
    "start_time": "2023-05-14T21:02:19.746Z"
   },
   {
    "duration": 17,
    "start_time": "2023-05-14T21:02:19.761Z"
   },
   {
    "duration": 27,
    "start_time": "2023-05-14T21:02:19.780Z"
   },
   {
    "duration": 13,
    "start_time": "2023-05-14T21:02:19.809Z"
   },
   {
    "duration": 17,
    "start_time": "2023-05-14T21:02:19.824Z"
   },
   {
    "duration": 33,
    "start_time": "2023-05-14T21:02:19.843Z"
   },
   {
    "duration": 29,
    "start_time": "2023-05-14T21:02:19.878Z"
   },
   {
    "duration": 13,
    "start_time": "2023-05-14T21:02:38.344Z"
   },
   {
    "duration": 10,
    "start_time": "2023-05-14T21:03:38.848Z"
   },
   {
    "duration": 1417,
    "start_time": "2023-05-14T21:04:48.468Z"
   },
   {
    "duration": 60,
    "start_time": "2023-05-14T21:04:49.887Z"
   },
   {
    "duration": 17,
    "start_time": "2023-05-14T21:04:49.948Z"
   },
   {
    "duration": 16,
    "start_time": "2023-05-14T21:04:49.968Z"
   },
   {
    "duration": 14,
    "start_time": "2023-05-14T21:04:49.986Z"
   },
   {
    "duration": 27,
    "start_time": "2023-05-14T21:04:50.002Z"
   },
   {
    "duration": 23,
    "start_time": "2023-05-14T21:04:50.031Z"
   },
   {
    "duration": 24,
    "start_time": "2023-05-14T21:04:50.055Z"
   },
   {
    "duration": 30,
    "start_time": "2023-05-14T21:04:50.082Z"
   },
   {
    "duration": 3,
    "start_time": "2023-05-14T21:10:29.501Z"
   },
   {
    "duration": 48,
    "start_time": "2023-05-14T21:10:30.219Z"
   },
   {
    "duration": 43,
    "start_time": "2023-05-15T17:27:56.637Z"
   },
   {
    "duration": 1634,
    "start_time": "2023-05-15T17:28:01.131Z"
   },
   {
    "duration": 356,
    "start_time": "2023-05-15T17:28:02.767Z"
   },
   {
    "duration": 12,
    "start_time": "2023-05-15T17:28:03.125Z"
   },
   {
    "duration": 10,
    "start_time": "2023-05-15T17:28:03.139Z"
   },
   {
    "duration": 12,
    "start_time": "2023-05-15T17:28:03.151Z"
   },
   {
    "duration": 7,
    "start_time": "2023-05-15T17:28:03.164Z"
   },
   {
    "duration": 10,
    "start_time": "2023-05-15T17:28:03.173Z"
   },
   {
    "duration": 5,
    "start_time": "2023-05-15T17:28:03.185Z"
   },
   {
    "duration": 19,
    "start_time": "2023-05-15T17:28:03.191Z"
   },
   {
    "duration": 4,
    "start_time": "2023-05-15T17:28:03.212Z"
   },
   {
    "duration": 5,
    "start_time": "2023-05-15T17:28:19.964Z"
   },
   {
    "duration": 121,
    "start_time": "2023-05-15T17:30:13.791Z"
   },
   {
    "duration": 21,
    "start_time": "2023-05-15T17:30:50.834Z"
   },
   {
    "duration": 17,
    "start_time": "2023-05-15T17:32:00.089Z"
   },
   {
    "duration": 16,
    "start_time": "2023-05-15T17:36:45.012Z"
   },
   {
    "duration": 29,
    "start_time": "2023-05-15T17:39:55.390Z"
   },
   {
    "duration": 15,
    "start_time": "2023-05-15T17:40:19.078Z"
   },
   {
    "duration": 28,
    "start_time": "2023-05-15T17:40:56.168Z"
   },
   {
    "duration": 1504,
    "start_time": "2023-05-15T17:41:49.372Z"
   },
   {
    "duration": 57,
    "start_time": "2023-05-15T17:41:50.878Z"
   },
   {
    "duration": 13,
    "start_time": "2023-05-15T17:41:50.937Z"
   },
   {
    "duration": 16,
    "start_time": "2023-05-15T17:41:50.951Z"
   },
   {
    "duration": 14,
    "start_time": "2023-05-15T17:41:50.970Z"
   },
   {
    "duration": 8,
    "start_time": "2023-05-15T17:41:50.986Z"
   },
   {
    "duration": 8,
    "start_time": "2023-05-15T17:41:50.996Z"
   },
   {
    "duration": 18,
    "start_time": "2023-05-15T17:41:51.005Z"
   },
   {
    "duration": 14,
    "start_time": "2023-05-15T17:41:51.025Z"
   },
   {
    "duration": 5,
    "start_time": "2023-05-15T17:41:51.058Z"
   },
   {
    "duration": 15,
    "start_time": "2023-05-15T17:41:51.065Z"
   },
   {
    "duration": 20,
    "start_time": "2023-05-15T17:41:51.082Z"
   },
   {
    "duration": 28,
    "start_time": "2023-05-15T17:41:51.104Z"
   },
   {
    "duration": 25,
    "start_time": "2023-05-15T17:42:04.002Z"
   },
   {
    "duration": 441,
    "start_time": "2023-05-15T17:42:25.852Z"
   },
   {
    "duration": 22,
    "start_time": "2023-05-15T17:43:22.752Z"
   },
   {
    "duration": 394,
    "start_time": "2023-05-15T17:43:45.994Z"
   },
   {
    "duration": 24,
    "start_time": "2023-05-15T17:44:05.413Z"
   },
   {
    "duration": 1233,
    "start_time": "2023-05-15T17:49:37.538Z"
   },
   {
    "duration": 3,
    "start_time": "2023-05-15T17:50:05.291Z"
   },
   {
    "duration": 4,
    "start_time": "2023-05-15T17:50:15.482Z"
   },
   {
    "duration": 1316,
    "start_time": "2023-05-15T17:50:35.958Z"
   },
   {
    "duration": 1137,
    "start_time": "2023-05-15T17:50:42.420Z"
   },
   {
    "duration": 134,
    "start_time": "2023-05-15T17:54:11.398Z"
   },
   {
    "duration": 332,
    "start_time": "2023-05-15T17:54:21.280Z"
   },
   {
    "duration": 229,
    "start_time": "2023-05-15T17:54:25.676Z"
   },
   {
    "duration": 1133,
    "start_time": "2023-05-15T17:54:31.291Z"
   },
   {
    "duration": 1386,
    "start_time": "2023-05-15T17:55:23.423Z"
   },
   {
    "duration": 1348,
    "start_time": "2023-05-15T17:55:36.575Z"
   },
   {
    "duration": 1280,
    "start_time": "2023-05-15T17:55:49.011Z"
   },
   {
    "duration": 1128,
    "start_time": "2023-05-15T17:55:54.947Z"
   },
   {
    "duration": 1178,
    "start_time": "2023-05-15T17:56:05.611Z"
   },
   {
    "duration": 1152,
    "start_time": "2023-05-15T17:57:08.420Z"
   },
   {
    "duration": 1199,
    "start_time": "2023-05-15T18:00:39.243Z"
   },
   {
    "duration": 1073,
    "start_time": "2023-05-15T18:00:45.220Z"
   },
   {
    "duration": 5,
    "start_time": "2023-05-15T18:10:11.361Z"
   },
   {
    "duration": 7,
    "start_time": "2023-05-15T18:10:28.791Z"
   },
   {
    "duration": 8,
    "start_time": "2023-05-15T18:12:20.128Z"
   },
   {
    "duration": 1661,
    "start_time": "2023-05-16T18:52:57.458Z"
   },
   {
    "duration": 415,
    "start_time": "2023-05-16T18:52:59.121Z"
   },
   {
    "duration": 17,
    "start_time": "2023-05-16T18:52:59.538Z"
   },
   {
    "duration": 15,
    "start_time": "2023-05-16T18:52:59.557Z"
   },
   {
    "duration": 31,
    "start_time": "2023-05-16T18:52:59.574Z"
   },
   {
    "duration": 7,
    "start_time": "2023-05-16T18:52:59.607Z"
   },
   {
    "duration": 8,
    "start_time": "2023-05-16T18:52:59.615Z"
   },
   {
    "duration": 6,
    "start_time": "2023-05-16T18:52:59.625Z"
   },
   {
    "duration": 13,
    "start_time": "2023-05-16T18:52:59.633Z"
   },
   {
    "duration": 5,
    "start_time": "2023-05-16T18:52:59.650Z"
   },
   {
    "duration": 27,
    "start_time": "2023-05-16T18:52:59.657Z"
   },
   {
    "duration": 23,
    "start_time": "2023-05-16T18:52:59.687Z"
   },
   {
    "duration": 1283,
    "start_time": "2023-05-16T18:52:59.712Z"
   },
   {
    "duration": 14,
    "start_time": "2023-05-16T18:53:00.997Z"
   },
   {
    "duration": 29,
    "start_time": "2023-05-16T18:53:01.013Z"
   },
   {
    "duration": 21,
    "start_time": "2023-05-16T18:53:01.044Z"
   },
   {
    "duration": 160,
    "start_time": "2023-05-16T18:53:01.067Z"
   },
   {
    "duration": 10,
    "start_time": "2023-05-16T18:53:29.258Z"
   },
   {
    "duration": 6,
    "start_time": "2023-05-16T18:53:58.428Z"
   },
   {
    "duration": 17,
    "start_time": "2023-05-16T18:54:14.327Z"
   },
   {
    "duration": 1347,
    "start_time": "2023-05-16T18:56:05.748Z"
   },
   {
    "duration": 54,
    "start_time": "2023-05-16T18:56:07.097Z"
   },
   {
    "duration": 14,
    "start_time": "2023-05-16T18:56:07.152Z"
   },
   {
    "duration": 17,
    "start_time": "2023-05-16T18:56:07.168Z"
   },
   {
    "duration": 15,
    "start_time": "2023-05-16T18:56:07.189Z"
   },
   {
    "duration": 5,
    "start_time": "2023-05-16T18:56:07.206Z"
   },
   {
    "duration": 6,
    "start_time": "2023-05-16T18:56:07.213Z"
   },
   {
    "duration": 4,
    "start_time": "2023-05-16T18:56:07.220Z"
   },
   {
    "duration": 16,
    "start_time": "2023-05-16T18:56:07.226Z"
   },
   {
    "duration": 35,
    "start_time": "2023-05-16T18:56:07.244Z"
   },
   {
    "duration": 11,
    "start_time": "2023-05-16T18:56:07.284Z"
   },
   {
    "duration": 18,
    "start_time": "2023-05-16T18:56:07.297Z"
   },
   {
    "duration": 1238,
    "start_time": "2023-05-16T18:56:07.317Z"
   },
   {
    "duration": 6,
    "start_time": "2023-05-16T18:56:08.557Z"
   },
   {
    "duration": 8,
    "start_time": "2023-05-16T18:56:08.564Z"
   },
   {
    "duration": 15,
    "start_time": "2023-05-16T18:56:08.573Z"
   },
   {
    "duration": 11,
    "start_time": "2023-05-16T18:56:08.594Z"
   },
   {
    "duration": 13,
    "start_time": "2023-05-16T19:19:10.013Z"
   },
   {
    "duration": 113,
    "start_time": "2023-05-16T19:20:44.514Z"
   },
   {
    "duration": 18,
    "start_time": "2023-05-16T19:20:59.621Z"
   },
   {
    "duration": 13,
    "start_time": "2023-05-16T19:21:05.894Z"
   },
   {
    "duration": 15,
    "start_time": "2023-05-16T19:21:22.139Z"
   },
   {
    "duration": 15,
    "start_time": "2023-05-16T19:21:34.118Z"
   },
   {
    "duration": 28,
    "start_time": "2023-05-16T19:21:46.745Z"
   },
   {
    "duration": 24,
    "start_time": "2023-05-16T19:22:08.795Z"
   },
   {
    "duration": 27,
    "start_time": "2023-05-16T19:22:25.836Z"
   },
   {
    "duration": 1511,
    "start_time": "2023-05-16T19:24:36.786Z"
   },
   {
    "duration": 55,
    "start_time": "2023-05-16T19:24:38.299Z"
   },
   {
    "duration": 12,
    "start_time": "2023-05-16T19:24:38.356Z"
   },
   {
    "duration": 21,
    "start_time": "2023-05-16T19:24:38.370Z"
   },
   {
    "duration": 14,
    "start_time": "2023-05-16T19:24:38.393Z"
   },
   {
    "duration": 13,
    "start_time": "2023-05-16T19:24:38.409Z"
   },
   {
    "duration": 10,
    "start_time": "2023-05-16T19:24:38.423Z"
   },
   {
    "duration": 4,
    "start_time": "2023-05-16T19:24:38.434Z"
   },
   {
    "duration": 14,
    "start_time": "2023-05-16T19:24:38.439Z"
   },
   {
    "duration": 28,
    "start_time": "2023-05-16T19:24:38.455Z"
   },
   {
    "duration": 9,
    "start_time": "2023-05-16T19:24:38.484Z"
   },
   {
    "duration": 20,
    "start_time": "2023-05-16T19:24:38.495Z"
   },
   {
    "duration": 1176,
    "start_time": "2023-05-16T19:24:38.516Z"
   },
   {
    "duration": 4,
    "start_time": "2023-05-16T19:24:39.695Z"
   },
   {
    "duration": 27,
    "start_time": "2023-05-16T19:24:39.701Z"
   },
   {
    "duration": 9,
    "start_time": "2023-05-16T19:24:39.730Z"
   },
   {
    "duration": 52,
    "start_time": "2023-05-16T19:24:39.741Z"
   },
   {
    "duration": 0,
    "start_time": "2023-05-16T19:24:39.794Z"
   },
   {
    "duration": 0,
    "start_time": "2023-05-16T19:24:39.796Z"
   },
   {
    "duration": 1520,
    "start_time": "2023-05-16T19:24:59.096Z"
   },
   {
    "duration": 57,
    "start_time": "2023-05-16T19:25:00.618Z"
   },
   {
    "duration": 18,
    "start_time": "2023-05-16T19:25:00.677Z"
   },
   {
    "duration": 54,
    "start_time": "2023-05-16T19:25:00.697Z"
   },
   {
    "duration": 43,
    "start_time": "2023-05-16T19:25:00.753Z"
   },
   {
    "duration": 86,
    "start_time": "2023-05-16T19:25:00.798Z"
   },
   {
    "duration": 35,
    "start_time": "2023-05-16T19:25:00.891Z"
   },
   {
    "duration": 34,
    "start_time": "2023-05-16T19:25:00.928Z"
   },
   {
    "duration": 54,
    "start_time": "2023-05-16T19:25:00.964Z"
   },
   {
    "duration": 35,
    "start_time": "2023-05-16T19:25:01.021Z"
   },
   {
    "duration": 45,
    "start_time": "2023-05-16T19:25:01.057Z"
   },
   {
    "duration": 53,
    "start_time": "2023-05-16T19:25:01.103Z"
   },
   {
    "duration": 1290,
    "start_time": "2023-05-16T19:25:01.157Z"
   },
   {
    "duration": 4,
    "start_time": "2023-05-16T19:25:02.449Z"
   },
   {
    "duration": 17,
    "start_time": "2023-05-16T19:25:02.454Z"
   },
   {
    "duration": 16,
    "start_time": "2023-05-16T19:25:02.473Z"
   },
   {
    "duration": 29,
    "start_time": "2023-05-16T19:25:02.493Z"
   },
   {
    "duration": 14,
    "start_time": "2023-05-16T19:25:02.523Z"
   },
   {
    "duration": 12,
    "start_time": "2023-05-16T19:25:28.421Z"
   },
   {
    "duration": 13,
    "start_time": "2023-05-16T19:25:29.069Z"
   },
   {
    "duration": 151,
    "start_time": "2023-05-16T19:58:24.800Z"
   },
   {
    "duration": 146,
    "start_time": "2023-05-16T19:58:34.033Z"
   },
   {
    "duration": 4,
    "start_time": "2023-05-16T19:58:52.656Z"
   },
   {
    "duration": 1643,
    "start_time": "2023-05-16T19:58:57.604Z"
   },
   {
    "duration": 63,
    "start_time": "2023-05-16T19:58:59.250Z"
   },
   {
    "duration": 15,
    "start_time": "2023-05-16T19:58:59.315Z"
   },
   {
    "duration": 13,
    "start_time": "2023-05-16T19:58:59.331Z"
   },
   {
    "duration": 45,
    "start_time": "2023-05-16T19:58:59.347Z"
   },
   {
    "duration": 22,
    "start_time": "2023-05-16T19:58:59.393Z"
   },
   {
    "duration": 10,
    "start_time": "2023-05-16T19:58:59.417Z"
   },
   {
    "duration": 20,
    "start_time": "2023-05-16T19:58:59.429Z"
   },
   {
    "duration": 24,
    "start_time": "2023-05-16T19:58:59.451Z"
   },
   {
    "duration": 32,
    "start_time": "2023-05-16T19:58:59.476Z"
   },
   {
    "duration": 16,
    "start_time": "2023-05-16T19:58:59.510Z"
   },
   {
    "duration": 27,
    "start_time": "2023-05-16T19:58:59.528Z"
   },
   {
    "duration": 1357,
    "start_time": "2023-05-16T19:58:59.558Z"
   },
   {
    "duration": 6,
    "start_time": "2023-05-16T19:59:00.919Z"
   },
   {
    "duration": 29,
    "start_time": "2023-05-16T19:59:00.927Z"
   },
   {
    "duration": 35,
    "start_time": "2023-05-16T19:59:00.957Z"
   },
   {
    "duration": 51,
    "start_time": "2023-05-16T19:59:00.995Z"
   },
   {
    "duration": 15,
    "start_time": "2023-05-16T19:59:01.048Z"
   },
   {
    "duration": 42,
    "start_time": "2023-05-16T19:59:01.065Z"
   },
   {
    "duration": 39,
    "start_time": "2023-05-16T19:59:01.110Z"
   },
   {
    "duration": 383,
    "start_time": "2023-05-16T19:59:01.151Z"
   },
   {
    "duration": 182,
    "start_time": "2023-05-16T20:00:39.899Z"
   },
   {
    "duration": 543,
    "start_time": "2023-05-16T20:21:20.245Z"
   },
   {
    "duration": 495,
    "start_time": "2023-05-16T20:45:47.059Z"
   },
   {
    "duration": 475,
    "start_time": "2023-05-16T20:47:49.915Z"
   },
   {
    "duration": 5,
    "start_time": "2023-05-16T20:56:56.792Z"
   },
   {
    "duration": 7,
    "start_time": "2023-05-16T20:57:01.389Z"
   },
   {
    "duration": 5,
    "start_time": "2023-05-16T20:57:03.927Z"
   },
   {
    "duration": 6,
    "start_time": "2023-05-16T21:17:34.816Z"
   },
   {
    "duration": 1443,
    "start_time": "2023-05-16T21:18:00.128Z"
   },
   {
    "duration": 61,
    "start_time": "2023-05-16T21:18:01.573Z"
   },
   {
    "duration": 14,
    "start_time": "2023-05-16T21:18:01.635Z"
   },
   {
    "duration": 52,
    "start_time": "2023-05-16T21:18:01.651Z"
   },
   {
    "duration": 40,
    "start_time": "2023-05-16T21:18:01.706Z"
   },
   {
    "duration": 17,
    "start_time": "2023-05-16T21:18:01.748Z"
   },
   {
    "duration": 40,
    "start_time": "2023-05-16T21:18:01.766Z"
   },
   {
    "duration": 30,
    "start_time": "2023-05-16T21:18:01.808Z"
   },
   {
    "duration": 31,
    "start_time": "2023-05-16T21:18:01.840Z"
   },
   {
    "duration": 10,
    "start_time": "2023-05-16T21:18:01.874Z"
   },
   {
    "duration": 4,
    "start_time": "2023-05-16T21:18:01.886Z"
   },
   {
    "duration": 46,
    "start_time": "2023-05-16T21:18:01.892Z"
   },
   {
    "duration": 1210,
    "start_time": "2023-05-16T21:18:01.940Z"
   },
   {
    "duration": 5,
    "start_time": "2023-05-16T21:18:03.152Z"
   },
   {
    "duration": 32,
    "start_time": "2023-05-16T21:18:03.158Z"
   },
   {
    "duration": 31,
    "start_time": "2023-05-16T21:18:03.192Z"
   },
   {
    "duration": 40,
    "start_time": "2023-05-16T21:18:03.225Z"
   },
   {
    "duration": 13,
    "start_time": "2023-05-16T21:18:03.266Z"
   },
   {
    "duration": 21,
    "start_time": "2023-05-16T21:18:03.282Z"
   },
   {
    "duration": 24,
    "start_time": "2023-05-16T21:18:03.305Z"
   },
   {
    "duration": 39,
    "start_time": "2023-05-16T21:18:03.330Z"
   },
   {
    "duration": 0,
    "start_time": "2023-05-16T21:18:03.371Z"
   },
   {
    "duration": 27,
    "start_time": "2023-05-16T21:18:40.092Z"
   },
   {
    "duration": 485,
    "start_time": "2023-05-16T21:18:52.609Z"
   },
   {
    "duration": 185,
    "start_time": "2023-05-16T21:31:03.243Z"
   },
   {
    "duration": 39,
    "start_time": "2023-05-16T21:32:45.057Z"
   },
   {
    "duration": 1517,
    "start_time": "2023-05-16T21:33:14.277Z"
   },
   {
    "duration": 65,
    "start_time": "2023-05-16T21:33:15.796Z"
   },
   {
    "duration": 21,
    "start_time": "2023-05-16T21:33:15.863Z"
   },
   {
    "duration": 15,
    "start_time": "2023-05-16T21:33:15.894Z"
   },
   {
    "duration": 14,
    "start_time": "2023-05-16T21:33:15.911Z"
   },
   {
    "duration": 14,
    "start_time": "2023-05-16T21:33:15.927Z"
   },
   {
    "duration": 29,
    "start_time": "2023-05-16T21:33:15.942Z"
   },
   {
    "duration": 20,
    "start_time": "2023-05-16T21:33:15.973Z"
   },
   {
    "duration": 24,
    "start_time": "2023-05-16T21:33:15.995Z"
   },
   {
    "duration": 4,
    "start_time": "2023-05-16T21:33:16.021Z"
   },
   {
    "duration": 24,
    "start_time": "2023-05-16T21:33:16.027Z"
   },
   {
    "duration": 41,
    "start_time": "2023-05-16T21:33:16.052Z"
   },
   {
    "duration": 1199,
    "start_time": "2023-05-16T21:33:16.095Z"
   },
   {
    "duration": 5,
    "start_time": "2023-05-16T21:33:17.297Z"
   },
   {
    "duration": 10,
    "start_time": "2023-05-16T21:33:17.303Z"
   },
   {
    "duration": 8,
    "start_time": "2023-05-16T21:33:17.314Z"
   },
   {
    "duration": 38,
    "start_time": "2023-05-16T21:33:17.324Z"
   },
   {
    "duration": 29,
    "start_time": "2023-05-16T21:33:17.364Z"
   },
   {
    "duration": 15,
    "start_time": "2023-05-16T21:33:17.395Z"
   },
   {
    "duration": 13,
    "start_time": "2023-05-16T21:33:17.412Z"
   },
   {
    "duration": 71,
    "start_time": "2023-05-16T21:33:17.427Z"
   },
   {
    "duration": 591,
    "start_time": "2023-05-16T21:33:17.502Z"
   },
   {
    "duration": 24,
    "start_time": "2023-05-16T21:33:18.096Z"
   },
   {
    "duration": 455,
    "start_time": "2023-05-16T21:34:17.283Z"
   },
   {
    "duration": 121,
    "start_time": "2023-05-16T21:35:56.808Z"
   },
   {
    "duration": 1389,
    "start_time": "2023-05-16T21:36:21.097Z"
   },
   {
    "duration": 56,
    "start_time": "2023-05-16T21:36:22.490Z"
   },
   {
    "duration": 13,
    "start_time": "2023-05-16T21:36:22.547Z"
   },
   {
    "duration": 13,
    "start_time": "2023-05-16T21:36:22.561Z"
   },
   {
    "duration": 23,
    "start_time": "2023-05-16T21:36:22.575Z"
   },
   {
    "duration": 10,
    "start_time": "2023-05-16T21:36:22.599Z"
   },
   {
    "duration": 13,
    "start_time": "2023-05-16T21:36:22.610Z"
   },
   {
    "duration": 4,
    "start_time": "2023-05-16T21:36:22.624Z"
   },
   {
    "duration": 20,
    "start_time": "2023-05-16T21:36:22.630Z"
   },
   {
    "duration": 4,
    "start_time": "2023-05-16T21:36:22.654Z"
   },
   {
    "duration": 4,
    "start_time": "2023-05-16T21:36:22.660Z"
   },
   {
    "duration": 33,
    "start_time": "2023-05-16T21:36:22.666Z"
   },
   {
    "duration": 1147,
    "start_time": "2023-05-16T21:36:22.700Z"
   },
   {
    "duration": 5,
    "start_time": "2023-05-16T21:36:23.849Z"
   },
   {
    "duration": 7,
    "start_time": "2023-05-16T21:36:23.855Z"
   },
   {
    "duration": 8,
    "start_time": "2023-05-16T21:36:23.864Z"
   },
   {
    "duration": 34,
    "start_time": "2023-05-16T21:36:23.874Z"
   },
   {
    "duration": 12,
    "start_time": "2023-05-16T21:36:23.910Z"
   },
   {
    "duration": 11,
    "start_time": "2023-05-16T21:36:23.923Z"
   },
   {
    "duration": 11,
    "start_time": "2023-05-16T21:36:23.936Z"
   },
   {
    "duration": 56,
    "start_time": "2023-05-16T21:36:23.948Z"
   },
   {
    "duration": 555,
    "start_time": "2023-05-16T21:36:24.077Z"
   },
   {
    "duration": 1582,
    "start_time": "2023-05-16T21:36:24.634Z"
   },
   {
    "duration": 1509,
    "start_time": "2023-05-16T21:36:52.722Z"
   },
   {
    "duration": 43390,
    "start_time": "2023-05-16T21:39:38.936Z"
   },
   {
    "duration": 6,
    "start_time": "2023-05-16T21:49:48.489Z"
   },
   {
    "duration": 1457,
    "start_time": "2023-05-16T22:03:47.987Z"
   },
   {
    "duration": 67,
    "start_time": "2023-05-16T22:03:49.447Z"
   },
   {
    "duration": 18,
    "start_time": "2023-05-16T22:03:49.520Z"
   },
   {
    "duration": 14,
    "start_time": "2023-05-16T22:03:49.540Z"
   },
   {
    "duration": 32,
    "start_time": "2023-05-16T22:03:49.556Z"
   },
   {
    "duration": 10,
    "start_time": "2023-05-16T22:03:49.590Z"
   },
   {
    "duration": 10,
    "start_time": "2023-05-16T22:03:49.602Z"
   },
   {
    "duration": 17,
    "start_time": "2023-05-16T22:03:49.614Z"
   },
   {
    "duration": 19,
    "start_time": "2023-05-16T22:03:49.634Z"
   },
   {
    "duration": 5,
    "start_time": "2023-05-16T22:03:49.655Z"
   },
   {
    "duration": 6,
    "start_time": "2023-05-16T22:03:49.679Z"
   },
   {
    "duration": 26,
    "start_time": "2023-05-16T22:03:49.687Z"
   },
   {
    "duration": 1208,
    "start_time": "2023-05-16T22:03:49.715Z"
   },
   {
    "duration": 5,
    "start_time": "2023-05-16T22:03:50.924Z"
   },
   {
    "duration": 17,
    "start_time": "2023-05-16T22:03:50.931Z"
   },
   {
    "duration": 25,
    "start_time": "2023-05-16T22:03:50.949Z"
   },
   {
    "duration": 38,
    "start_time": "2023-05-16T22:03:50.976Z"
   },
   {
    "duration": 12,
    "start_time": "2023-05-16T22:03:51.016Z"
   },
   {
    "duration": 12,
    "start_time": "2023-05-16T22:03:51.030Z"
   },
   {
    "duration": 16,
    "start_time": "2023-05-16T22:03:51.044Z"
   },
   {
    "duration": 18,
    "start_time": "2023-05-16T22:03:51.062Z"
   },
   {
    "duration": 96,
    "start_time": "2023-05-16T22:03:51.082Z"
   },
   {
    "duration": 548,
    "start_time": "2023-05-16T22:03:51.181Z"
   },
   {
    "duration": 41940,
    "start_time": "2023-05-16T22:03:51.730Z"
   },
   {
    "duration": 32,
    "start_time": "2023-05-16T22:04:33.672Z"
   },
   {
    "duration": 599,
    "start_time": "2023-05-16T22:04:33.779Z"
   },
   {
    "duration": 37149,
    "start_time": "2023-05-16T22:04:34.381Z"
   },
   {
    "duration": 110,
    "start_time": "2023-05-16T22:30:26.168Z"
   },
   {
    "duration": 19,
    "start_time": "2023-05-16T22:30:38.121Z"
   },
   {
    "duration": 25,
    "start_time": "2023-05-16T22:30:57.373Z"
   },
   {
    "duration": 1452,
    "start_time": "2023-05-16T22:31:26.544Z"
   },
   {
    "duration": 54,
    "start_time": "2023-05-16T22:31:27.998Z"
   },
   {
    "duration": 14,
    "start_time": "2023-05-16T22:31:28.053Z"
   },
   {
    "duration": 12,
    "start_time": "2023-05-16T22:31:28.069Z"
   },
   {
    "duration": 12,
    "start_time": "2023-05-16T22:31:28.083Z"
   },
   {
    "duration": 6,
    "start_time": "2023-05-16T22:31:28.097Z"
   },
   {
    "duration": 8,
    "start_time": "2023-05-16T22:31:28.104Z"
   },
   {
    "duration": 4,
    "start_time": "2023-05-16T22:31:28.114Z"
   },
   {
    "duration": 15,
    "start_time": "2023-05-16T22:31:28.119Z"
   },
   {
    "duration": 5,
    "start_time": "2023-05-16T22:31:28.136Z"
   },
   {
    "duration": 6,
    "start_time": "2023-05-16T22:31:28.177Z"
   },
   {
    "duration": 19,
    "start_time": "2023-05-16T22:31:28.184Z"
   },
   {
    "duration": 1126,
    "start_time": "2023-05-16T22:31:28.205Z"
   },
   {
    "duration": 4,
    "start_time": "2023-05-16T22:31:29.333Z"
   },
   {
    "duration": 11,
    "start_time": "2023-05-16T22:31:29.338Z"
   },
   {
    "duration": 9,
    "start_time": "2023-05-16T22:31:29.351Z"
   },
   {
    "duration": 33,
    "start_time": "2023-05-16T22:31:29.362Z"
   },
   {
    "duration": 13,
    "start_time": "2023-05-16T22:31:29.397Z"
   },
   {
    "duration": 17,
    "start_time": "2023-05-16T22:31:29.412Z"
   },
   {
    "duration": 12,
    "start_time": "2023-05-16T22:31:29.431Z"
   },
   {
    "duration": 8,
    "start_time": "2023-05-16T22:31:29.445Z"
   },
   {
    "duration": 112,
    "start_time": "2023-05-16T22:31:29.479Z"
   },
   {
    "duration": 645,
    "start_time": "2023-05-16T22:31:29.593Z"
   },
   {
    "duration": 42046,
    "start_time": "2023-05-16T22:31:30.240Z"
   },
   {
    "duration": 24,
    "start_time": "2023-05-16T22:32:12.288Z"
   },
   {
    "duration": 544,
    "start_time": "2023-05-16T22:32:12.378Z"
   },
   {
    "duration": 37000,
    "start_time": "2023-05-16T22:32:12.924Z"
   },
   {
    "duration": 12,
    "start_time": "2023-05-16T22:32:49.927Z"
   },
   {
    "duration": 66,
    "start_time": "2023-05-16T22:35:16.114Z"
   },
   {
    "duration": 571,
    "start_time": "2023-05-16T22:36:08.237Z"
   },
   {
    "duration": 4,
    "start_time": "2023-05-16T22:37:21.796Z"
   },
   {
    "duration": 6,
    "start_time": "2023-05-16T22:38:10.798Z"
   },
   {
    "duration": 6,
    "start_time": "2023-05-16T22:38:55.215Z"
   },
   {
    "duration": 11,
    "start_time": "2023-05-16T22:39:21.056Z"
   },
   {
    "duration": 4,
    "start_time": "2023-05-16T22:39:21.644Z"
   },
   {
    "duration": 35,
    "start_time": "2023-05-16T22:39:23.828Z"
   },
   {
    "duration": 581,
    "start_time": "2023-05-16T22:39:47.744Z"
   },
   {
    "duration": 104,
    "start_time": "2023-05-16T22:41:08.575Z"
   },
   {
    "duration": 32,
    "start_time": "2023-05-16T22:41:22.321Z"
   },
   {
    "duration": 56900,
    "start_time": "2023-05-16T22:42:25.588Z"
   },
   {
    "duration": 56796,
    "start_time": "2023-05-16T22:44:50.693Z"
   },
   {
    "duration": 56583,
    "start_time": "2023-05-16T22:46:45.400Z"
   },
   {
    "duration": 622,
    "start_time": "2023-05-16T22:54:57.045Z"
   },
   {
    "duration": 55903,
    "start_time": "2023-05-16T22:55:31.279Z"
   },
   {
    "duration": 262,
    "start_time": "2023-05-16T22:56:30.623Z"
   },
   {
    "duration": 268,
    "start_time": "2023-05-16T22:56:55.499Z"
   },
   {
    "duration": 236,
    "start_time": "2023-05-16T22:57:01.301Z"
   },
   {
    "duration": 2672,
    "start_time": "2023-05-16T22:57:08.887Z"
   },
   {
    "duration": 879,
    "start_time": "2023-05-16T22:57:21.735Z"
   },
   {
    "duration": 1131,
    "start_time": "2023-05-16T22:57:40.292Z"
   },
   {
    "duration": 1540,
    "start_time": "2023-05-17T17:46:08.996Z"
   },
   {
    "duration": 196,
    "start_time": "2023-05-17T17:46:10.538Z"
   },
   {
    "duration": 12,
    "start_time": "2023-05-17T17:46:10.737Z"
   },
   {
    "duration": 12,
    "start_time": "2023-05-17T17:46:10.750Z"
   },
   {
    "duration": 11,
    "start_time": "2023-05-17T17:46:10.764Z"
   },
   {
    "duration": 5,
    "start_time": "2023-05-17T17:46:10.777Z"
   },
   {
    "duration": 6,
    "start_time": "2023-05-17T17:46:10.783Z"
   },
   {
    "duration": 12,
    "start_time": "2023-05-17T17:46:10.806Z"
   },
   {
    "duration": 14,
    "start_time": "2023-05-17T17:46:10.822Z"
   },
   {
    "duration": 5,
    "start_time": "2023-05-17T17:46:10.838Z"
   },
   {
    "duration": 6,
    "start_time": "2023-05-17T17:46:10.845Z"
   },
   {
    "duration": 22,
    "start_time": "2023-05-17T17:46:10.853Z"
   },
   {
    "duration": 1160,
    "start_time": "2023-05-17T17:46:10.877Z"
   },
   {
    "duration": 5,
    "start_time": "2023-05-17T17:46:12.040Z"
   },
   {
    "duration": 11,
    "start_time": "2023-05-17T17:46:12.046Z"
   },
   {
    "duration": 10,
    "start_time": "2023-05-17T17:46:12.060Z"
   },
   {
    "duration": 44,
    "start_time": "2023-05-17T17:46:12.072Z"
   },
   {
    "duration": 19,
    "start_time": "2023-05-17T17:46:12.118Z"
   },
   {
    "duration": 18,
    "start_time": "2023-05-17T17:46:12.138Z"
   },
   {
    "duration": 16,
    "start_time": "2023-05-17T17:46:12.158Z"
   },
   {
    "duration": 5,
    "start_time": "2023-05-17T17:46:12.176Z"
   },
   {
    "duration": 29,
    "start_time": "2023-05-17T17:46:12.182Z"
   },
   {
    "duration": 38,
    "start_time": "2023-05-17T17:46:12.212Z"
   },
   {
    "duration": 634,
    "start_time": "2023-05-17T17:46:12.252Z"
   },
   {
    "duration": 42978,
    "start_time": "2023-05-17T17:46:12.888Z"
   },
   {
    "duration": 144,
    "start_time": "2023-05-17T17:46:55.868Z"
   },
   {
    "duration": 482,
    "start_time": "2023-05-17T17:46:56.014Z"
   },
   {
    "duration": 35237,
    "start_time": "2023-05-17T17:46:56.497Z"
   },
   {
    "duration": 11,
    "start_time": "2023-05-17T17:47:31.738Z"
   },
   {
    "duration": 8,
    "start_time": "2023-05-17T17:47:31.752Z"
   },
   {
    "duration": 155,
    "start_time": "2023-05-17T17:47:31.762Z"
   },
   {
    "duration": 666,
    "start_time": "2023-05-17T17:47:31.918Z"
   },
   {
    "duration": 55113,
    "start_time": "2023-05-17T17:47:32.586Z"
   },
   {
    "duration": 128,
    "start_time": "2023-05-17T17:48:27.701Z"
   },
   {
    "duration": 0,
    "start_time": "2023-05-17T17:48:27.830Z"
   },
   {
    "duration": 22,
    "start_time": "2023-05-17T17:49:52.735Z"
   },
   {
    "duration": 19,
    "start_time": "2023-05-17T17:50:01.103Z"
   },
   {
    "duration": 9,
    "start_time": "2023-05-17T17:50:02.203Z"
   },
   {
    "duration": 14,
    "start_time": "2023-05-17T17:50:08.760Z"
   },
   {
    "duration": 4,
    "start_time": "2023-05-17T17:50:09.791Z"
   },
   {
    "duration": 106,
    "start_time": "2023-05-17T17:51:10.014Z"
   },
   {
    "duration": 246,
    "start_time": "2023-05-17T17:52:18.138Z"
   },
   {
    "duration": 64589,
    "start_time": "2023-05-17T17:54:39.660Z"
   },
   {
    "duration": 1413,
    "start_time": "2023-05-17T18:08:38.153Z"
   },
   {
    "duration": 60,
    "start_time": "2023-05-17T18:08:39.568Z"
   },
   {
    "duration": 20,
    "start_time": "2023-05-17T18:08:39.634Z"
   },
   {
    "duration": 17,
    "start_time": "2023-05-17T18:08:39.659Z"
   },
   {
    "duration": 18,
    "start_time": "2023-05-17T18:08:39.677Z"
   },
   {
    "duration": 30,
    "start_time": "2023-05-17T18:08:39.697Z"
   },
   {
    "duration": 9,
    "start_time": "2023-05-17T18:08:39.729Z"
   },
   {
    "duration": 7,
    "start_time": "2023-05-17T18:08:39.740Z"
   },
   {
    "duration": 14,
    "start_time": "2023-05-17T18:08:39.748Z"
   },
   {
    "duration": 4,
    "start_time": "2023-05-17T18:08:39.765Z"
   },
   {
    "duration": 8,
    "start_time": "2023-05-17T18:08:39.770Z"
   },
   {
    "duration": 21,
    "start_time": "2023-05-17T18:08:39.780Z"
   },
   {
    "duration": 1196,
    "start_time": "2023-05-17T18:08:39.802Z"
   },
   {
    "duration": 5,
    "start_time": "2023-05-17T18:08:40.999Z"
   },
   {
    "duration": 33,
    "start_time": "2023-05-17T18:08:41.005Z"
   },
   {
    "duration": 14,
    "start_time": "2023-05-17T18:08:41.043Z"
   },
   {
    "duration": 31,
    "start_time": "2023-05-17T18:08:41.061Z"
   },
   {
    "duration": 10,
    "start_time": "2023-05-17T18:08:41.094Z"
   },
   {
    "duration": 50,
    "start_time": "2023-05-17T18:08:41.105Z"
   },
   {
    "duration": 14,
    "start_time": "2023-05-17T18:08:41.157Z"
   },
   {
    "duration": 10,
    "start_time": "2023-05-17T18:08:41.173Z"
   },
   {
    "duration": 41,
    "start_time": "2023-05-17T18:08:41.185Z"
   },
   {
    "duration": 103,
    "start_time": "2023-05-17T18:08:41.228Z"
   },
   {
    "duration": 564,
    "start_time": "2023-05-17T18:08:41.337Z"
   },
   {
    "duration": 44792,
    "start_time": "2023-05-17T18:08:41.909Z"
   },
   {
    "duration": 213,
    "start_time": "2023-05-17T18:09:26.702Z"
   },
   {
    "duration": 669,
    "start_time": "2023-05-17T18:09:26.917Z"
   },
   {
    "duration": 39543,
    "start_time": "2023-05-17T18:09:27.590Z"
   },
   {
    "duration": 12,
    "start_time": "2023-05-17T18:10:07.135Z"
   },
   {
    "duration": 20,
    "start_time": "2023-05-17T18:10:07.148Z"
   },
   {
    "duration": 73,
    "start_time": "2023-05-17T18:10:07.170Z"
   },
   {
    "duration": 736,
    "start_time": "2023-05-17T18:10:07.249Z"
   },
   {
    "duration": 63884,
    "start_time": "2023-05-17T18:10:07.987Z"
   },
   {
    "duration": 11,
    "start_time": "2023-05-17T18:11:11.873Z"
   },
   {
    "duration": 7,
    "start_time": "2023-05-17T18:11:11.886Z"
   },
   {
    "duration": 57,
    "start_time": "2023-05-17T18:11:11.894Z"
   },
   {
    "duration": 388,
    "start_time": "2023-05-17T18:11:11.953Z"
   },
   {
    "duration": 64744,
    "start_time": "2023-05-17T18:11:12.342Z"
   },
   {
    "duration": 25378,
    "start_time": "2023-05-17T18:13:48.668Z"
   },
   {
    "duration": 1639,
    "start_time": "2023-05-17T18:46:38.360Z"
   },
   {
    "duration": 66,
    "start_time": "2023-05-17T18:46:40.001Z"
   },
   {
    "duration": 15,
    "start_time": "2023-05-17T18:46:40.069Z"
   },
   {
    "duration": 14,
    "start_time": "2023-05-17T18:46:40.087Z"
   },
   {
    "duration": 32,
    "start_time": "2023-05-17T18:46:40.103Z"
   },
   {
    "duration": 14,
    "start_time": "2023-05-17T18:46:40.145Z"
   },
   {
    "duration": 6,
    "start_time": "2023-05-17T18:46:40.164Z"
   },
   {
    "duration": 11,
    "start_time": "2023-05-17T18:46:40.172Z"
   },
   {
    "duration": 18,
    "start_time": "2023-05-17T18:46:40.185Z"
   },
   {
    "duration": 5,
    "start_time": "2023-05-17T18:46:40.206Z"
   },
   {
    "duration": 13,
    "start_time": "2023-05-17T18:46:40.214Z"
   },
   {
    "duration": 66,
    "start_time": "2023-05-17T18:46:40.229Z"
   },
   {
    "duration": 1346,
    "start_time": "2023-05-17T18:46:40.296Z"
   },
   {
    "duration": 13,
    "start_time": "2023-05-17T18:46:41.651Z"
   },
   {
    "duration": 18,
    "start_time": "2023-05-17T18:46:41.668Z"
   },
   {
    "duration": 8,
    "start_time": "2023-05-17T18:46:41.687Z"
   },
   {
    "duration": 48,
    "start_time": "2023-05-17T18:46:41.697Z"
   },
   {
    "duration": 19,
    "start_time": "2023-05-17T18:46:41.747Z"
   },
   {
    "duration": 10,
    "start_time": "2023-05-17T18:46:41.768Z"
   },
   {
    "duration": 17,
    "start_time": "2023-05-17T18:46:41.783Z"
   },
   {
    "duration": 20,
    "start_time": "2023-05-17T18:46:41.802Z"
   },
   {
    "duration": 19,
    "start_time": "2023-05-17T18:46:41.823Z"
   },
   {
    "duration": 184,
    "start_time": "2023-05-17T18:46:41.845Z"
   },
   {
    "duration": 578,
    "start_time": "2023-05-17T18:46:42.037Z"
   },
   {
    "duration": 50089,
    "start_time": "2023-05-17T18:46:42.627Z"
   },
   {
    "duration": 140,
    "start_time": "2023-05-17T18:47:32.720Z"
   },
   {
    "duration": 625,
    "start_time": "2023-05-17T18:47:32.869Z"
   },
   {
    "duration": 44278,
    "start_time": "2023-05-17T18:47:33.498Z"
   },
   {
    "duration": 15,
    "start_time": "2023-05-17T18:48:17.785Z"
   },
   {
    "duration": 4,
    "start_time": "2023-05-17T18:48:17.802Z"
   },
   {
    "duration": 135,
    "start_time": "2023-05-17T18:48:17.808Z"
   },
   {
    "duration": 707,
    "start_time": "2023-05-17T18:48:17.952Z"
   },
   {
    "duration": 55199,
    "start_time": "2023-05-17T18:48:18.666Z"
   },
   {
    "duration": 13,
    "start_time": "2023-05-17T18:49:13.867Z"
   },
   {
    "duration": 6,
    "start_time": "2023-05-17T18:49:13.885Z"
   },
   {
    "duration": 143,
    "start_time": "2023-05-17T18:49:13.893Z"
   },
   {
    "duration": 383,
    "start_time": "2023-05-17T18:49:14.048Z"
   },
   {
    "duration": 24261,
    "start_time": "2023-05-17T18:49:14.438Z"
   },
   {
    "duration": 65962,
    "start_time": "2023-05-17T18:49:38.701Z"
   },
   {
    "duration": 22730,
    "start_time": "2023-05-17T18:50:44.665Z"
   },
   {
    "duration": 7459,
    "start_time": "2023-05-17T18:52:17.797Z"
   },
   {
    "duration": 1541,
    "start_time": "2023-05-17T18:52:31.351Z"
   },
   {
    "duration": 90,
    "start_time": "2023-05-17T18:52:32.894Z"
   },
   {
    "duration": 13,
    "start_time": "2023-05-17T18:52:32.986Z"
   },
   {
    "duration": 36,
    "start_time": "2023-05-17T18:52:33.002Z"
   },
   {
    "duration": 21,
    "start_time": "2023-05-17T18:52:33.039Z"
   },
   {
    "duration": 10,
    "start_time": "2023-05-17T18:52:33.063Z"
   },
   {
    "duration": 12,
    "start_time": "2023-05-17T18:52:33.076Z"
   },
   {
    "duration": 3,
    "start_time": "2023-05-17T18:52:33.091Z"
   },
   {
    "duration": 27,
    "start_time": "2023-05-17T18:52:33.096Z"
   },
   {
    "duration": 12,
    "start_time": "2023-05-17T18:52:33.132Z"
   },
   {
    "duration": 11,
    "start_time": "2023-05-17T18:52:33.148Z"
   },
   {
    "duration": 26,
    "start_time": "2023-05-17T18:52:33.162Z"
   },
   {
    "duration": 1254,
    "start_time": "2023-05-17T18:52:33.189Z"
   },
   {
    "duration": 5,
    "start_time": "2023-05-17T18:52:34.445Z"
   },
   {
    "duration": 20,
    "start_time": "2023-05-17T18:52:34.451Z"
   },
   {
    "duration": 8,
    "start_time": "2023-05-17T18:52:34.472Z"
   },
   {
    "duration": 23,
    "start_time": "2023-05-17T18:52:34.481Z"
   },
   {
    "duration": 40,
    "start_time": "2023-05-17T18:52:34.507Z"
   },
   {
    "duration": 14,
    "start_time": "2023-05-17T18:52:34.555Z"
   },
   {
    "duration": 11,
    "start_time": "2023-05-17T18:52:34.571Z"
   },
   {
    "duration": 6,
    "start_time": "2023-05-17T18:52:34.584Z"
   },
   {
    "duration": 5,
    "start_time": "2023-05-17T18:52:34.592Z"
   },
   {
    "duration": 162,
    "start_time": "2023-05-17T18:52:34.598Z"
   },
   {
    "duration": 522,
    "start_time": "2023-05-17T18:52:34.762Z"
   },
   {
    "duration": 45512,
    "start_time": "2023-05-17T18:52:35.286Z"
   },
   {
    "duration": 207,
    "start_time": "2023-05-17T18:53:20.800Z"
   },
   {
    "duration": 615,
    "start_time": "2023-05-17T18:53:21.009Z"
   },
   {
    "duration": 39747,
    "start_time": "2023-05-17T18:53:21.634Z"
   },
   {
    "duration": 10,
    "start_time": "2023-05-17T18:54:01.383Z"
   },
   {
    "duration": 30,
    "start_time": "2023-05-17T18:54:01.394Z"
   },
   {
    "duration": 101,
    "start_time": "2023-05-17T18:54:01.426Z"
   },
   {
    "duration": 670,
    "start_time": "2023-05-17T18:54:01.536Z"
   },
   {
    "duration": 48256,
    "start_time": "2023-05-17T18:54:02.208Z"
   },
   {
    "duration": 10,
    "start_time": "2023-05-17T18:54:50.465Z"
   },
   {
    "duration": 4,
    "start_time": "2023-05-17T18:54:50.477Z"
   },
   {
    "duration": 41,
    "start_time": "2023-05-17T18:54:50.482Z"
   },
   {
    "duration": 347,
    "start_time": "2023-05-17T18:54:50.533Z"
   },
   {
    "duration": 12882,
    "start_time": "2023-05-17T18:54:50.882Z"
   },
   {
    "duration": 1456,
    "start_time": "2023-05-17T18:55:09.905Z"
   },
   {
    "duration": 57,
    "start_time": "2023-05-17T18:55:11.367Z"
   },
   {
    "duration": 17,
    "start_time": "2023-05-17T18:55:11.425Z"
   },
   {
    "duration": 18,
    "start_time": "2023-05-17T18:55:11.443Z"
   },
   {
    "duration": 11,
    "start_time": "2023-05-17T18:55:11.464Z"
   },
   {
    "duration": 4,
    "start_time": "2023-05-17T18:55:11.476Z"
   },
   {
    "duration": 10,
    "start_time": "2023-05-17T18:55:11.481Z"
   },
   {
    "duration": 4,
    "start_time": "2023-05-17T18:55:11.492Z"
   },
   {
    "duration": 23,
    "start_time": "2023-05-17T18:55:11.511Z"
   },
   {
    "duration": 5,
    "start_time": "2023-05-17T18:55:11.536Z"
   },
   {
    "duration": 5,
    "start_time": "2023-05-17T18:55:11.543Z"
   },
   {
    "duration": 22,
    "start_time": "2023-05-17T18:55:11.549Z"
   },
   {
    "duration": 1220,
    "start_time": "2023-05-17T18:55:11.573Z"
   },
   {
    "duration": 4,
    "start_time": "2023-05-17T18:55:12.796Z"
   },
   {
    "duration": 32,
    "start_time": "2023-05-17T18:55:12.802Z"
   },
   {
    "duration": 23,
    "start_time": "2023-05-17T18:55:12.836Z"
   },
   {
    "duration": 28,
    "start_time": "2023-05-17T18:55:12.863Z"
   },
   {
    "duration": 11,
    "start_time": "2023-05-17T18:55:12.892Z"
   },
   {
    "duration": 28,
    "start_time": "2023-05-17T18:55:12.905Z"
   },
   {
    "duration": 18,
    "start_time": "2023-05-17T18:55:12.937Z"
   },
   {
    "duration": 7,
    "start_time": "2023-05-17T18:55:12.959Z"
   },
   {
    "duration": 17,
    "start_time": "2023-05-17T18:55:12.968Z"
   },
   {
    "duration": 122,
    "start_time": "2023-05-17T18:55:12.987Z"
   },
   {
    "duration": 520,
    "start_time": "2023-05-17T18:55:13.110Z"
   },
   {
    "duration": 43551,
    "start_time": "2023-05-17T18:55:13.640Z"
   },
   {
    "duration": 59,
    "start_time": "2023-05-17T18:55:57.193Z"
   },
   {
    "duration": 623,
    "start_time": "2023-05-17T18:55:57.253Z"
   },
   {
    "duration": 37481,
    "start_time": "2023-05-17T18:55:57.877Z"
   },
   {
    "duration": 21,
    "start_time": "2023-05-17T18:56:35.359Z"
   },
   {
    "duration": 3,
    "start_time": "2023-05-17T18:56:35.381Z"
   },
   {
    "duration": 57,
    "start_time": "2023-05-17T18:56:35.386Z"
   },
   {
    "duration": 715,
    "start_time": "2023-05-17T18:56:35.448Z"
   },
   {
    "duration": 57209,
    "start_time": "2023-05-17T18:56:36.165Z"
   },
   {
    "duration": 10,
    "start_time": "2023-05-17T18:57:33.376Z"
   },
   {
    "duration": 5,
    "start_time": "2023-05-17T18:57:33.387Z"
   },
   {
    "duration": 121,
    "start_time": "2023-05-17T18:57:33.393Z"
   },
   {
    "duration": 326,
    "start_time": "2023-05-17T18:57:33.518Z"
   },
   {
    "duration": 21834,
    "start_time": "2023-05-17T18:57:33.852Z"
   },
   {
    "duration": 59011,
    "start_time": "2023-05-17T18:57:55.688Z"
   },
   {
    "duration": 25292,
    "start_time": "2023-05-17T18:58:54.700Z"
   },
   {
    "duration": 156,
    "start_time": "2023-05-17T19:08:14.297Z"
   },
   {
    "duration": 3,
    "start_time": "2023-05-17T19:08:37.500Z"
   },
   {
    "duration": 5,
    "start_time": "2023-05-17T19:09:16.354Z"
   },
   {
    "duration": 137,
    "start_time": "2023-05-17T19:12:02.402Z"
   },
   {
    "duration": 7,
    "start_time": "2023-05-17T19:12:15.624Z"
   },
   {
    "duration": 575,
    "start_time": "2023-05-17T19:12:27.552Z"
   },
   {
    "duration": 1790,
    "start_time": "2023-05-17T19:14:55.846Z"
   },
   {
    "duration": 121,
    "start_time": "2023-05-17T19:14:57.650Z"
   },
   {
    "duration": 20,
    "start_time": "2023-05-17T19:14:57.773Z"
   },
   {
    "duration": 20,
    "start_time": "2023-05-17T19:14:57.799Z"
   },
   {
    "duration": 23,
    "start_time": "2023-05-17T19:14:57.824Z"
   },
   {
    "duration": 13,
    "start_time": "2023-05-17T19:14:57.848Z"
   },
   {
    "duration": 26,
    "start_time": "2023-05-17T19:14:57.863Z"
   },
   {
    "duration": 9,
    "start_time": "2023-05-17T19:14:57.897Z"
   },
   {
    "duration": 20,
    "start_time": "2023-05-17T19:14:57.914Z"
   },
   {
    "duration": 18,
    "start_time": "2023-05-17T19:14:57.939Z"
   },
   {
    "duration": 13,
    "start_time": "2023-05-17T19:14:57.963Z"
   },
   {
    "duration": 25,
    "start_time": "2023-05-17T19:14:57.980Z"
   },
   {
    "duration": 1632,
    "start_time": "2023-05-17T19:14:58.007Z"
   },
   {
    "duration": 6,
    "start_time": "2023-05-17T19:14:59.656Z"
   },
   {
    "duration": 7,
    "start_time": "2023-05-17T19:14:59.664Z"
   },
   {
    "duration": 8,
    "start_time": "2023-05-17T19:14:59.678Z"
   },
   {
    "duration": 52,
    "start_time": "2023-05-17T19:14:59.689Z"
   },
   {
    "duration": 18,
    "start_time": "2023-05-17T19:14:59.743Z"
   },
   {
    "duration": 18,
    "start_time": "2023-05-17T19:14:59.763Z"
   },
   {
    "duration": 16,
    "start_time": "2023-05-17T19:14:59.782Z"
   },
   {
    "duration": 7,
    "start_time": "2023-05-17T19:14:59.800Z"
   },
   {
    "duration": 16,
    "start_time": "2023-05-17T19:14:59.809Z"
   },
   {
    "duration": 95,
    "start_time": "2023-05-17T19:14:59.827Z"
   },
   {
    "duration": 530,
    "start_time": "2023-05-17T19:15:00.013Z"
   },
   {
    "duration": 2346,
    "start_time": "2023-05-17T19:15:00.545Z"
   },
   {
    "duration": 53,
    "start_time": "2023-05-17T19:15:02.894Z"
   },
   {
    "duration": 635,
    "start_time": "2023-05-17T19:15:02.948Z"
   },
   {
    "duration": 1504,
    "start_time": "2023-05-17T19:15:12.540Z"
   },
   {
    "duration": 53,
    "start_time": "2023-05-17T19:15:14.047Z"
   },
   {
    "duration": 21,
    "start_time": "2023-05-17T19:15:14.102Z"
   },
   {
    "duration": 15,
    "start_time": "2023-05-17T19:15:14.126Z"
   },
   {
    "duration": 14,
    "start_time": "2023-05-17T19:15:14.143Z"
   },
   {
    "duration": 10,
    "start_time": "2023-05-17T19:15:14.158Z"
   },
   {
    "duration": 16,
    "start_time": "2023-05-17T19:15:14.170Z"
   },
   {
    "duration": 11,
    "start_time": "2023-05-17T19:15:14.188Z"
   },
   {
    "duration": 16,
    "start_time": "2023-05-17T19:15:14.205Z"
   },
   {
    "duration": 9,
    "start_time": "2023-05-17T19:15:14.228Z"
   },
   {
    "duration": 11,
    "start_time": "2023-05-17T19:15:14.242Z"
   },
   {
    "duration": 20,
    "start_time": "2023-05-17T19:15:14.255Z"
   },
   {
    "duration": 1252,
    "start_time": "2023-05-17T19:15:14.277Z"
   },
   {
    "duration": 8,
    "start_time": "2023-05-17T19:15:15.532Z"
   },
   {
    "duration": 9,
    "start_time": "2023-05-17T19:15:15.544Z"
   },
   {
    "duration": 7,
    "start_time": "2023-05-17T19:15:15.555Z"
   },
   {
    "duration": 25,
    "start_time": "2023-05-17T19:15:15.563Z"
   },
   {
    "duration": 11,
    "start_time": "2023-05-17T19:15:15.590Z"
   },
   {
    "duration": 39,
    "start_time": "2023-05-17T19:15:15.603Z"
   },
   {
    "duration": 11,
    "start_time": "2023-05-17T19:15:15.643Z"
   },
   {
    "duration": 17,
    "start_time": "2023-05-17T19:15:15.656Z"
   },
   {
    "duration": 6,
    "start_time": "2023-05-17T19:15:15.674Z"
   },
   {
    "duration": 59,
    "start_time": "2023-05-17T19:15:15.681Z"
   },
   {
    "duration": 624,
    "start_time": "2023-05-17T19:15:15.743Z"
   },
   {
    "duration": 44666,
    "start_time": "2023-05-17T19:15:16.369Z"
   },
   {
    "duration": 270,
    "start_time": "2023-05-17T19:16:01.040Z"
   },
   {
    "duration": 509,
    "start_time": "2023-05-17T19:16:01.311Z"
   },
   {
    "duration": 37869,
    "start_time": "2023-05-17T19:16:01.823Z"
   },
   {
    "duration": 35,
    "start_time": "2023-05-17T19:16:39.694Z"
   },
   {
    "duration": 3,
    "start_time": "2023-05-17T19:16:39.730Z"
   },
   {
    "duration": 85,
    "start_time": "2023-05-17T19:16:39.735Z"
   },
   {
    "duration": 695,
    "start_time": "2023-05-17T19:16:39.822Z"
   },
   {
    "duration": 60530,
    "start_time": "2023-05-17T19:16:40.526Z"
   },
   {
    "duration": 11,
    "start_time": "2023-05-17T19:17:41.059Z"
   },
   {
    "duration": 5,
    "start_time": "2023-05-17T19:17:41.071Z"
   },
   {
    "duration": 57,
    "start_time": "2023-05-17T19:17:41.077Z"
   },
   {
    "duration": 353,
    "start_time": "2023-05-17T19:17:41.139Z"
   },
   {
    "duration": 21444,
    "start_time": "2023-05-17T19:17:41.493Z"
   },
   {
    "duration": 58235,
    "start_time": "2023-05-17T19:18:02.938Z"
   },
   {
    "duration": 24908,
    "start_time": "2023-05-17T19:19:01.174Z"
   },
   {
    "duration": 571,
    "start_time": "2023-05-17T19:19:26.084Z"
   },
   {
    "duration": 2052,
    "start_time": "2023-05-17T20:19:33.108Z"
   },
   {
    "duration": 52,
    "start_time": "2023-05-17T20:19:35.162Z"
   },
   {
    "duration": 17,
    "start_time": "2023-05-17T20:19:35.216Z"
   },
   {
    "duration": 17,
    "start_time": "2023-05-17T20:19:35.235Z"
   },
   {
    "duration": 13,
    "start_time": "2023-05-17T20:19:35.254Z"
   },
   {
    "duration": 6,
    "start_time": "2023-05-17T20:19:35.269Z"
   },
   {
    "duration": 7,
    "start_time": "2023-05-17T20:19:35.277Z"
   },
   {
    "duration": 7,
    "start_time": "2023-05-17T20:19:35.286Z"
   },
   {
    "duration": 23,
    "start_time": "2023-05-17T20:19:35.295Z"
   },
   {
    "duration": 34,
    "start_time": "2023-05-17T20:19:35.320Z"
   },
   {
    "duration": 6,
    "start_time": "2023-05-17T20:19:35.356Z"
   },
   {
    "duration": 19,
    "start_time": "2023-05-17T20:19:35.364Z"
   },
   {
    "duration": 1186,
    "start_time": "2023-05-17T20:19:35.385Z"
   },
   {
    "duration": 5,
    "start_time": "2023-05-17T20:19:36.576Z"
   },
   {
    "duration": 9,
    "start_time": "2023-05-17T20:19:36.583Z"
   },
   {
    "duration": 11,
    "start_time": "2023-05-17T20:19:36.594Z"
   },
   {
    "duration": 66,
    "start_time": "2023-05-17T20:19:36.607Z"
   },
   {
    "duration": 11,
    "start_time": "2023-05-17T20:19:36.675Z"
   },
   {
    "duration": 16,
    "start_time": "2023-05-17T20:19:36.687Z"
   },
   {
    "duration": 14,
    "start_time": "2023-05-17T20:19:36.705Z"
   },
   {
    "duration": 32,
    "start_time": "2023-05-17T20:19:36.721Z"
   },
   {
    "duration": 6,
    "start_time": "2023-05-17T20:19:36.755Z"
   },
   {
    "duration": 288,
    "start_time": "2023-05-17T20:19:36.764Z"
   },
   {
    "duration": 467,
    "start_time": "2023-05-17T20:19:37.054Z"
   },
   {
    "duration": 68544,
    "start_time": "2023-05-17T20:19:37.524Z"
   },
   {
    "duration": 198,
    "start_time": "2023-05-17T20:20:46.071Z"
   },
   {
    "duration": 1308,
    "start_time": "2023-05-17T20:20:46.351Z"
   },
   {
    "duration": 82826,
    "start_time": "2023-05-17T20:20:47.661Z"
   },
   {
    "duration": 73,
    "start_time": "2023-05-17T20:22:10.490Z"
   },
   {
    "duration": 5,
    "start_time": "2023-05-17T20:22:10.565Z"
   },
   {
    "duration": 293,
    "start_time": "2023-05-17T20:22:10.572Z"
   },
   {
    "duration": 1209,
    "start_time": "2023-05-17T20:22:10.951Z"
   },
   {
    "duration": 116828,
    "start_time": "2023-05-17T20:22:12.162Z"
   },
   {
    "duration": 67,
    "start_time": "2023-05-17T20:24:08.992Z"
   },
   {
    "duration": 4,
    "start_time": "2023-05-17T20:24:09.061Z"
   },
   {
    "duration": 96,
    "start_time": "2023-05-17T20:24:09.067Z"
   },
   {
    "duration": 613,
    "start_time": "2023-05-17T20:24:09.164Z"
   },
   {
    "duration": 42884,
    "start_time": "2023-05-17T20:24:09.779Z"
   },
   {
    "duration": 115212,
    "start_time": "2023-05-17T20:24:52.664Z"
   },
   {
    "duration": 48795,
    "start_time": "2023-05-17T20:26:47.877Z"
   },
   {
    "duration": 1114,
    "start_time": "2023-05-17T20:27:36.675Z"
   },
   {
    "duration": 1654,
    "start_time": "2023-05-21T17:21:18.358Z"
   },
   {
    "duration": 170,
    "start_time": "2023-05-21T17:21:23.198Z"
   },
   {
    "duration": 15,
    "start_time": "2023-05-21T17:21:24.223Z"
   },
   {
    "duration": 17,
    "start_time": "2023-05-21T17:21:26.478Z"
   },
   {
    "duration": 14,
    "start_time": "2023-05-21T17:21:27.083Z"
   },
   {
    "duration": 7,
    "start_time": "2023-05-21T17:21:29.870Z"
   },
   {
    "duration": 9,
    "start_time": "2023-05-21T17:21:30.458Z"
   },
   {
    "duration": 6,
    "start_time": "2023-05-21T17:21:34.470Z"
   },
   {
    "duration": 11,
    "start_time": "2023-05-21T17:21:41.842Z"
   },
   {
    "duration": 5,
    "start_time": "2023-05-21T17:23:45.571Z"
   },
   {
    "duration": 115,
    "start_time": "2023-05-21T17:40:00.374Z"
   },
   {
    "duration": 1424,
    "start_time": "2023-05-21T17:49:43.845Z"
   },
   {
    "duration": 57,
    "start_time": "2023-05-21T17:49:45.272Z"
   },
   {
    "duration": 12,
    "start_time": "2023-05-21T17:49:45.331Z"
   },
   {
    "duration": 13,
    "start_time": "2023-05-21T17:49:45.345Z"
   },
   {
    "duration": 17,
    "start_time": "2023-05-21T17:49:45.361Z"
   },
   {
    "duration": 5,
    "start_time": "2023-05-21T17:49:45.379Z"
   },
   {
    "duration": 7,
    "start_time": "2023-05-21T17:49:45.386Z"
   },
   {
    "duration": 5,
    "start_time": "2023-05-21T17:49:45.395Z"
   },
   {
    "duration": 12,
    "start_time": "2023-05-21T17:49:45.402Z"
   },
   {
    "duration": 5,
    "start_time": "2023-05-21T17:49:45.416Z"
   },
   {
    "duration": 6,
    "start_time": "2023-05-21T17:49:45.422Z"
   },
   {
    "duration": 61,
    "start_time": "2023-05-21T17:49:45.429Z"
   },
   {
    "duration": 1247,
    "start_time": "2023-05-21T17:49:45.492Z"
   },
   {
    "duration": 4,
    "start_time": "2023-05-21T17:49:46.742Z"
   },
   {
    "duration": 9,
    "start_time": "2023-05-21T17:49:46.748Z"
   },
   {
    "duration": 12,
    "start_time": "2023-05-21T17:49:46.759Z"
   },
   {
    "duration": 33,
    "start_time": "2023-05-21T17:49:46.774Z"
   },
   {
    "duration": 12,
    "start_time": "2023-05-21T17:49:46.809Z"
   },
   {
    "duration": 12,
    "start_time": "2023-05-21T17:49:46.823Z"
   },
   {
    "duration": 12,
    "start_time": "2023-05-21T17:49:46.837Z"
   },
   {
    "duration": 12,
    "start_time": "2023-05-21T17:49:46.877Z"
   },
   {
    "duration": 9,
    "start_time": "2023-05-21T17:49:46.891Z"
   },
   {
    "duration": 80,
    "start_time": "2023-05-21T17:49:46.901Z"
   },
   {
    "duration": 562,
    "start_time": "2023-05-21T17:49:46.983Z"
   },
   {
    "duration": 38897,
    "start_time": "2023-05-21T17:49:47.547Z"
   },
   {
    "duration": 43,
    "start_time": "2023-05-21T17:50:26.445Z"
   },
   {
    "duration": 564,
    "start_time": "2023-05-21T17:50:26.579Z"
   },
   {
    "duration": 40161,
    "start_time": "2023-05-21T17:50:27.145Z"
   },
   {
    "duration": 11,
    "start_time": "2023-05-21T17:51:07.308Z"
   },
   {
    "duration": 3,
    "start_time": "2023-05-21T17:51:07.321Z"
   },
   {
    "duration": 60,
    "start_time": "2023-05-21T17:51:07.326Z"
   },
   {
    "duration": 737,
    "start_time": "2023-05-21T17:51:07.388Z"
   },
   {
    "duration": 59192,
    "start_time": "2023-05-21T17:51:08.126Z"
   },
   {
    "duration": 10,
    "start_time": "2023-05-21T17:52:07.319Z"
   },
   {
    "duration": 3,
    "start_time": "2023-05-21T17:52:07.331Z"
   },
   {
    "duration": 48,
    "start_time": "2023-05-21T17:52:07.336Z"
   },
   {
    "duration": 435,
    "start_time": "2023-05-21T17:52:07.386Z"
   },
   {
    "duration": 22541,
    "start_time": "2023-05-21T17:52:07.823Z"
   },
   {
    "duration": 558,
    "start_time": "2023-05-21T17:52:30.367Z"
   }
  ],
  "kernelspec": {
   "display_name": "Python 3 (ipykernel)",
   "language": "python",
   "name": "python3"
  },
  "language_info": {
   "codemirror_mode": {
    "name": "ipython",
    "version": 3
   },
   "file_extension": ".py",
   "mimetype": "text/x-python",
   "name": "python",
   "nbconvert_exporter": "python",
   "pygments_lexer": "ipython3",
   "version": "3.11.4"
  },
  "toc": {
   "base_numbering": 1,
   "nav_menu": {},
   "number_sections": true,
   "sideBar": true,
   "skip_h1_title": true,
   "title_cell": "Содержание",
   "title_sidebar": "Contents",
   "toc_cell": true,
   "toc_position": {},
   "toc_section_display": true,
   "toc_window_display": false
  }
 },
 "nbformat": 4,
 "nbformat_minor": 2
}
